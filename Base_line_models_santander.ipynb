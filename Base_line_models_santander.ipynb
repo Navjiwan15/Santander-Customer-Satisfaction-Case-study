{
 "cells": [
  {
   "cell_type": "markdown",
   "id": "relevant-patrick",
   "metadata": {},
   "source": [
    "# CASE-STUDY: SANTANDER CUSTOMER SATISFACTION"
   ]
  },
  {
   "cell_type": "markdown",
   "id": "falling-receptor",
   "metadata": {},
   "source": [
    "About Santander Customer Satisfaction Problem:-"
   ]
  },
  {
   "cell_type": "markdown",
   "id": "growing-serbia",
   "metadata": {},
   "source": [
    "Santander Customer Satisfaction – Which customers are happy customers?” is a Featured Prediction Competition hosted by Kaggle in 2016 on the behalf of “Banco Santander” Bank, which is a large Corporation focusing primarily on the market in the north-eastern part of United States.\n",
    "Kaggle introduces the problem to its readers by harping on the significance of “customer satisfaction” as the key measure of a business success. They further impinge upon the fact that unhappy customers rarely express their dis-satisfaction before leaving. Therefore, it is expected of the participants in the Competition to help identify dis-satisfied customers early on in the relationship so that proactive steps can be taken to improve customer satisfaction early on.The data shared by Santander Bank constitutes of Train-set with 76020 observations, 370 features and one binary target, a Test-set with 75818 observations and 370 features and also a sample submission file. The data consists of hundreds of anonymized features, which are to be leveraged effectively to find an appropriate model and consequently enable prediction with respect to a client’s satisfaction/dis-satisfaction in the near future. In order to evaluate the Machine-Learning models, the evaluation metric used by Santander Bank is “AUC”. The top leadership score obtained was 0.829072. The utility of the model would be that it will help the prestigious Santander Bank to identify dis-satisfied customers as early as possible so that they may be in a position to take necessary action to retain those customers."
   ]
  },
  {
   "cell_type": "markdown",
   "id": "seasonal-internet",
   "metadata": {},
   "source": [
    "# BASE-LINE MODELS"
   ]
  },
  {
   "cell_type": "code",
   "execution_count": 2,
   "id": "collaborative-resistance",
   "metadata": {},
   "outputs": [],
   "source": [
    "#import the libraries\n",
    "%matplotlib inline\n",
    "import matplotlib.pyplot as plt\n",
    "import seaborn as sns\n",
    "sns.set(palette='muted',style='whitegrid')\n",
    "from sklearn.manifold import TSNE\n",
    "import warnings\n",
    "warnings.filterwarnings(\"ignore\")\n",
    "from sklearn import metrics,ensemble,model_selection,linear_model,tree,calibration"
   ]
  },
  {
   "cell_type": "code",
   "execution_count": 3,
   "id": "inner-audio",
   "metadata": {},
   "outputs": [],
   "source": [
    "import pandas as pd\n",
    "import numpy as np"
   ]
  },
  {
   "cell_type": "code",
   "execution_count": 4,
   "id": "suited-russia",
   "metadata": {},
   "outputs": [],
   "source": [
    "train_data = pd.read_csv('D:/santander_train.csv')\n",
    "test_data = pd.read_csv('D:/santander_test.csv')"
   ]
  },
  {
   "cell_type": "code",
   "execution_count": 5,
   "id": "primary-spirituality",
   "metadata": {},
   "outputs": [
    {
     "name": "stdout",
     "output_type": "stream",
     "text": [
      "The number of observations in Santander Train-Data are: 76020\n",
      "The number of features in Santander Train-Data are: 370\n"
     ]
    }
   ],
   "source": [
    "print(\"The number of observations in Santander Train-Data are:\",train_data.shape[0])\n",
    "print(\"The number of features in Santander Train-Data are:\",test_data.shape[1])"
   ]
  },
  {
   "cell_type": "code",
   "execution_count": 6,
   "id": "greenhouse-client",
   "metadata": {},
   "outputs": [
    {
     "name": "stdout",
     "output_type": "stream",
     "text": [
      "The number of observations in Santander Test-Data are: 75818\n",
      "The number of features in Santander Train-Data are: 370\n"
     ]
    }
   ],
   "source": [
    "print(\"The number of observations in Santander Test-Data are:\",test_data.shape[0])\n",
    "print(\"The number of features in Santander Train-Data are:\",test_data.shape[1])"
   ]
  },
  {
   "cell_type": "code",
   "execution_count": 7,
   "id": "decreased-horizontal",
   "metadata": {},
   "outputs": [
    {
     "data": {
      "text/html": [
       "<div>\n",
       "<style scoped>\n",
       "    .dataframe tbody tr th:only-of-type {\n",
       "        vertical-align: middle;\n",
       "    }\n",
       "\n",
       "    .dataframe tbody tr th {\n",
       "        vertical-align: top;\n",
       "    }\n",
       "\n",
       "    .dataframe thead th {\n",
       "        text-align: right;\n",
       "    }\n",
       "</style>\n",
       "<table border=\"1\" class=\"dataframe\">\n",
       "  <thead>\n",
       "    <tr style=\"text-align: right;\">\n",
       "      <th></th>\n",
       "      <th>ID</th>\n",
       "      <th>var3</th>\n",
       "      <th>var15</th>\n",
       "      <th>imp_ent_var16_ult1</th>\n",
       "      <th>imp_op_var39_comer_ult1</th>\n",
       "      <th>imp_op_var39_comer_ult3</th>\n",
       "      <th>imp_op_var40_comer_ult1</th>\n",
       "      <th>imp_op_var40_comer_ult3</th>\n",
       "      <th>imp_op_var40_efect_ult1</th>\n",
       "      <th>imp_op_var40_efect_ult3</th>\n",
       "      <th>...</th>\n",
       "      <th>saldo_medio_var33_hace2</th>\n",
       "      <th>saldo_medio_var33_hace3</th>\n",
       "      <th>saldo_medio_var33_ult1</th>\n",
       "      <th>saldo_medio_var33_ult3</th>\n",
       "      <th>saldo_medio_var44_hace2</th>\n",
       "      <th>saldo_medio_var44_hace3</th>\n",
       "      <th>saldo_medio_var44_ult1</th>\n",
       "      <th>saldo_medio_var44_ult3</th>\n",
       "      <th>var38</th>\n",
       "      <th>TARGET</th>\n",
       "    </tr>\n",
       "  </thead>\n",
       "  <tbody>\n",
       "    <tr>\n",
       "      <th>0</th>\n",
       "      <td>1</td>\n",
       "      <td>2</td>\n",
       "      <td>23</td>\n",
       "      <td>0.0</td>\n",
       "      <td>0.0</td>\n",
       "      <td>0.0</td>\n",
       "      <td>0.0</td>\n",
       "      <td>0.0</td>\n",
       "      <td>0.0</td>\n",
       "      <td>0.0</td>\n",
       "      <td>...</td>\n",
       "      <td>0.0</td>\n",
       "      <td>0.0</td>\n",
       "      <td>0.0</td>\n",
       "      <td>0.0</td>\n",
       "      <td>0.0</td>\n",
       "      <td>0.0</td>\n",
       "      <td>0.0</td>\n",
       "      <td>0.0</td>\n",
       "      <td>39205.170000</td>\n",
       "      <td>0</td>\n",
       "    </tr>\n",
       "    <tr>\n",
       "      <th>1</th>\n",
       "      <td>3</td>\n",
       "      <td>2</td>\n",
       "      <td>34</td>\n",
       "      <td>0.0</td>\n",
       "      <td>0.0</td>\n",
       "      <td>0.0</td>\n",
       "      <td>0.0</td>\n",
       "      <td>0.0</td>\n",
       "      <td>0.0</td>\n",
       "      <td>0.0</td>\n",
       "      <td>...</td>\n",
       "      <td>0.0</td>\n",
       "      <td>0.0</td>\n",
       "      <td>0.0</td>\n",
       "      <td>0.0</td>\n",
       "      <td>0.0</td>\n",
       "      <td>0.0</td>\n",
       "      <td>0.0</td>\n",
       "      <td>0.0</td>\n",
       "      <td>49278.030000</td>\n",
       "      <td>0</td>\n",
       "    </tr>\n",
       "    <tr>\n",
       "      <th>2</th>\n",
       "      <td>4</td>\n",
       "      <td>2</td>\n",
       "      <td>23</td>\n",
       "      <td>0.0</td>\n",
       "      <td>0.0</td>\n",
       "      <td>0.0</td>\n",
       "      <td>0.0</td>\n",
       "      <td>0.0</td>\n",
       "      <td>0.0</td>\n",
       "      <td>0.0</td>\n",
       "      <td>...</td>\n",
       "      <td>0.0</td>\n",
       "      <td>0.0</td>\n",
       "      <td>0.0</td>\n",
       "      <td>0.0</td>\n",
       "      <td>0.0</td>\n",
       "      <td>0.0</td>\n",
       "      <td>0.0</td>\n",
       "      <td>0.0</td>\n",
       "      <td>67333.770000</td>\n",
       "      <td>0</td>\n",
       "    </tr>\n",
       "    <tr>\n",
       "      <th>3</th>\n",
       "      <td>8</td>\n",
       "      <td>2</td>\n",
       "      <td>37</td>\n",
       "      <td>0.0</td>\n",
       "      <td>195.0</td>\n",
       "      <td>195.0</td>\n",
       "      <td>0.0</td>\n",
       "      <td>0.0</td>\n",
       "      <td>0.0</td>\n",
       "      <td>0.0</td>\n",
       "      <td>...</td>\n",
       "      <td>0.0</td>\n",
       "      <td>0.0</td>\n",
       "      <td>0.0</td>\n",
       "      <td>0.0</td>\n",
       "      <td>0.0</td>\n",
       "      <td>0.0</td>\n",
       "      <td>0.0</td>\n",
       "      <td>0.0</td>\n",
       "      <td>64007.970000</td>\n",
       "      <td>0</td>\n",
       "    </tr>\n",
       "    <tr>\n",
       "      <th>4</th>\n",
       "      <td>10</td>\n",
       "      <td>2</td>\n",
       "      <td>39</td>\n",
       "      <td>0.0</td>\n",
       "      <td>0.0</td>\n",
       "      <td>0.0</td>\n",
       "      <td>0.0</td>\n",
       "      <td>0.0</td>\n",
       "      <td>0.0</td>\n",
       "      <td>0.0</td>\n",
       "      <td>...</td>\n",
       "      <td>0.0</td>\n",
       "      <td>0.0</td>\n",
       "      <td>0.0</td>\n",
       "      <td>0.0</td>\n",
       "      <td>0.0</td>\n",
       "      <td>0.0</td>\n",
       "      <td>0.0</td>\n",
       "      <td>0.0</td>\n",
       "      <td>117310.979016</td>\n",
       "      <td>0</td>\n",
       "    </tr>\n",
       "  </tbody>\n",
       "</table>\n",
       "<p>5 rows × 371 columns</p>\n",
       "</div>"
      ],
      "text/plain": [
       "   ID  var3  var15  imp_ent_var16_ult1  imp_op_var39_comer_ult1  \\\n",
       "0   1     2     23                 0.0                      0.0   \n",
       "1   3     2     34                 0.0                      0.0   \n",
       "2   4     2     23                 0.0                      0.0   \n",
       "3   8     2     37                 0.0                    195.0   \n",
       "4  10     2     39                 0.0                      0.0   \n",
       "\n",
       "   imp_op_var39_comer_ult3  imp_op_var40_comer_ult1  imp_op_var40_comer_ult3  \\\n",
       "0                      0.0                      0.0                      0.0   \n",
       "1                      0.0                      0.0                      0.0   \n",
       "2                      0.0                      0.0                      0.0   \n",
       "3                    195.0                      0.0                      0.0   \n",
       "4                      0.0                      0.0                      0.0   \n",
       "\n",
       "   imp_op_var40_efect_ult1  imp_op_var40_efect_ult3  ...  \\\n",
       "0                      0.0                      0.0  ...   \n",
       "1                      0.0                      0.0  ...   \n",
       "2                      0.0                      0.0  ...   \n",
       "3                      0.0                      0.0  ...   \n",
       "4                      0.0                      0.0  ...   \n",
       "\n",
       "   saldo_medio_var33_hace2  saldo_medio_var33_hace3  saldo_medio_var33_ult1  \\\n",
       "0                      0.0                      0.0                     0.0   \n",
       "1                      0.0                      0.0                     0.0   \n",
       "2                      0.0                      0.0                     0.0   \n",
       "3                      0.0                      0.0                     0.0   \n",
       "4                      0.0                      0.0                     0.0   \n",
       "\n",
       "   saldo_medio_var33_ult3  saldo_medio_var44_hace2  saldo_medio_var44_hace3  \\\n",
       "0                     0.0                      0.0                      0.0   \n",
       "1                     0.0                      0.0                      0.0   \n",
       "2                     0.0                      0.0                      0.0   \n",
       "3                     0.0                      0.0                      0.0   \n",
       "4                     0.0                      0.0                      0.0   \n",
       "\n",
       "   saldo_medio_var44_ult1  saldo_medio_var44_ult3          var38  TARGET  \n",
       "0                     0.0                     0.0   39205.170000       0  \n",
       "1                     0.0                     0.0   49278.030000       0  \n",
       "2                     0.0                     0.0   67333.770000       0  \n",
       "3                     0.0                     0.0   64007.970000       0  \n",
       "4                     0.0                     0.0  117310.979016       0  \n",
       "\n",
       "[5 rows x 371 columns]"
      ]
     },
     "execution_count": 7,
     "metadata": {},
     "output_type": "execute_result"
    }
   ],
   "source": [
    "train_data.head()"
   ]
  },
  {
   "cell_type": "code",
   "execution_count": 8,
   "id": "continuous-sitting",
   "metadata": {},
   "outputs": [
    {
     "data": {
      "text/html": [
       "<div>\n",
       "<style scoped>\n",
       "    .dataframe tbody tr th:only-of-type {\n",
       "        vertical-align: middle;\n",
       "    }\n",
       "\n",
       "    .dataframe tbody tr th {\n",
       "        vertical-align: top;\n",
       "    }\n",
       "\n",
       "    .dataframe thead th {\n",
       "        text-align: right;\n",
       "    }\n",
       "</style>\n",
       "<table border=\"1\" class=\"dataframe\">\n",
       "  <thead>\n",
       "    <tr style=\"text-align: right;\">\n",
       "      <th></th>\n",
       "      <th>ID</th>\n",
       "      <th>var3</th>\n",
       "      <th>var15</th>\n",
       "      <th>imp_ent_var16_ult1</th>\n",
       "      <th>imp_op_var39_comer_ult1</th>\n",
       "      <th>imp_op_var39_comer_ult3</th>\n",
       "      <th>imp_op_var40_comer_ult1</th>\n",
       "      <th>imp_op_var40_comer_ult3</th>\n",
       "      <th>imp_op_var40_efect_ult1</th>\n",
       "      <th>imp_op_var40_efect_ult3</th>\n",
       "      <th>...</th>\n",
       "      <th>saldo_medio_var29_ult3</th>\n",
       "      <th>saldo_medio_var33_hace2</th>\n",
       "      <th>saldo_medio_var33_hace3</th>\n",
       "      <th>saldo_medio_var33_ult1</th>\n",
       "      <th>saldo_medio_var33_ult3</th>\n",
       "      <th>saldo_medio_var44_hace2</th>\n",
       "      <th>saldo_medio_var44_hace3</th>\n",
       "      <th>saldo_medio_var44_ult1</th>\n",
       "      <th>saldo_medio_var44_ult3</th>\n",
       "      <th>var38</th>\n",
       "    </tr>\n",
       "  </thead>\n",
       "  <tbody>\n",
       "    <tr>\n",
       "      <th>0</th>\n",
       "      <td>2</td>\n",
       "      <td>2</td>\n",
       "      <td>32</td>\n",
       "      <td>0.0</td>\n",
       "      <td>0.0</td>\n",
       "      <td>0.0</td>\n",
       "      <td>0.0</td>\n",
       "      <td>0.0</td>\n",
       "      <td>0.0</td>\n",
       "      <td>0.0</td>\n",
       "      <td>...</td>\n",
       "      <td>0.0</td>\n",
       "      <td>0.0</td>\n",
       "      <td>0.0</td>\n",
       "      <td>0.0</td>\n",
       "      <td>0.0</td>\n",
       "      <td>0.0</td>\n",
       "      <td>0.0</td>\n",
       "      <td>0.0</td>\n",
       "      <td>0.0</td>\n",
       "      <td>40532.10</td>\n",
       "    </tr>\n",
       "    <tr>\n",
       "      <th>1</th>\n",
       "      <td>5</td>\n",
       "      <td>2</td>\n",
       "      <td>35</td>\n",
       "      <td>0.0</td>\n",
       "      <td>0.0</td>\n",
       "      <td>0.0</td>\n",
       "      <td>0.0</td>\n",
       "      <td>0.0</td>\n",
       "      <td>0.0</td>\n",
       "      <td>0.0</td>\n",
       "      <td>...</td>\n",
       "      <td>0.0</td>\n",
       "      <td>0.0</td>\n",
       "      <td>0.0</td>\n",
       "      <td>0.0</td>\n",
       "      <td>0.0</td>\n",
       "      <td>0.0</td>\n",
       "      <td>0.0</td>\n",
       "      <td>0.0</td>\n",
       "      <td>0.0</td>\n",
       "      <td>45486.72</td>\n",
       "    </tr>\n",
       "    <tr>\n",
       "      <th>2</th>\n",
       "      <td>6</td>\n",
       "      <td>2</td>\n",
       "      <td>23</td>\n",
       "      <td>0.0</td>\n",
       "      <td>0.0</td>\n",
       "      <td>0.0</td>\n",
       "      <td>0.0</td>\n",
       "      <td>0.0</td>\n",
       "      <td>0.0</td>\n",
       "      <td>0.0</td>\n",
       "      <td>...</td>\n",
       "      <td>0.0</td>\n",
       "      <td>0.0</td>\n",
       "      <td>0.0</td>\n",
       "      <td>0.0</td>\n",
       "      <td>0.0</td>\n",
       "      <td>0.0</td>\n",
       "      <td>0.0</td>\n",
       "      <td>0.0</td>\n",
       "      <td>0.0</td>\n",
       "      <td>46993.95</td>\n",
       "    </tr>\n",
       "    <tr>\n",
       "      <th>3</th>\n",
       "      <td>7</td>\n",
       "      <td>2</td>\n",
       "      <td>24</td>\n",
       "      <td>0.0</td>\n",
       "      <td>0.0</td>\n",
       "      <td>0.0</td>\n",
       "      <td>0.0</td>\n",
       "      <td>0.0</td>\n",
       "      <td>0.0</td>\n",
       "      <td>0.0</td>\n",
       "      <td>...</td>\n",
       "      <td>0.0</td>\n",
       "      <td>0.0</td>\n",
       "      <td>0.0</td>\n",
       "      <td>0.0</td>\n",
       "      <td>0.0</td>\n",
       "      <td>0.0</td>\n",
       "      <td>0.0</td>\n",
       "      <td>0.0</td>\n",
       "      <td>0.0</td>\n",
       "      <td>187898.61</td>\n",
       "    </tr>\n",
       "    <tr>\n",
       "      <th>4</th>\n",
       "      <td>9</td>\n",
       "      <td>2</td>\n",
       "      <td>23</td>\n",
       "      <td>0.0</td>\n",
       "      <td>0.0</td>\n",
       "      <td>0.0</td>\n",
       "      <td>0.0</td>\n",
       "      <td>0.0</td>\n",
       "      <td>0.0</td>\n",
       "      <td>0.0</td>\n",
       "      <td>...</td>\n",
       "      <td>0.0</td>\n",
       "      <td>0.0</td>\n",
       "      <td>0.0</td>\n",
       "      <td>0.0</td>\n",
       "      <td>0.0</td>\n",
       "      <td>0.0</td>\n",
       "      <td>0.0</td>\n",
       "      <td>0.0</td>\n",
       "      <td>0.0</td>\n",
       "      <td>73649.73</td>\n",
       "    </tr>\n",
       "  </tbody>\n",
       "</table>\n",
       "<p>5 rows × 370 columns</p>\n",
       "</div>"
      ],
      "text/plain": [
       "   ID  var3  var15  imp_ent_var16_ult1  imp_op_var39_comer_ult1  \\\n",
       "0   2     2     32                 0.0                      0.0   \n",
       "1   5     2     35                 0.0                      0.0   \n",
       "2   6     2     23                 0.0                      0.0   \n",
       "3   7     2     24                 0.0                      0.0   \n",
       "4   9     2     23                 0.0                      0.0   \n",
       "\n",
       "   imp_op_var39_comer_ult3  imp_op_var40_comer_ult1  imp_op_var40_comer_ult3  \\\n",
       "0                      0.0                      0.0                      0.0   \n",
       "1                      0.0                      0.0                      0.0   \n",
       "2                      0.0                      0.0                      0.0   \n",
       "3                      0.0                      0.0                      0.0   \n",
       "4                      0.0                      0.0                      0.0   \n",
       "\n",
       "   imp_op_var40_efect_ult1  imp_op_var40_efect_ult3  ...  \\\n",
       "0                      0.0                      0.0  ...   \n",
       "1                      0.0                      0.0  ...   \n",
       "2                      0.0                      0.0  ...   \n",
       "3                      0.0                      0.0  ...   \n",
       "4                      0.0                      0.0  ...   \n",
       "\n",
       "   saldo_medio_var29_ult3  saldo_medio_var33_hace2  saldo_medio_var33_hace3  \\\n",
       "0                     0.0                      0.0                      0.0   \n",
       "1                     0.0                      0.0                      0.0   \n",
       "2                     0.0                      0.0                      0.0   \n",
       "3                     0.0                      0.0                      0.0   \n",
       "4                     0.0                      0.0                      0.0   \n",
       "\n",
       "   saldo_medio_var33_ult1  saldo_medio_var33_ult3  saldo_medio_var44_hace2  \\\n",
       "0                     0.0                     0.0                      0.0   \n",
       "1                     0.0                     0.0                      0.0   \n",
       "2                     0.0                     0.0                      0.0   \n",
       "3                     0.0                     0.0                      0.0   \n",
       "4                     0.0                     0.0                      0.0   \n",
       "\n",
       "   saldo_medio_var44_hace3  saldo_medio_var44_ult1  saldo_medio_var44_ult3  \\\n",
       "0                      0.0                     0.0                     0.0   \n",
       "1                      0.0                     0.0                     0.0   \n",
       "2                      0.0                     0.0                     0.0   \n",
       "3                      0.0                     0.0                     0.0   \n",
       "4                      0.0                     0.0                     0.0   \n",
       "\n",
       "       var38  \n",
       "0   40532.10  \n",
       "1   45486.72  \n",
       "2   46993.95  \n",
       "3  187898.61  \n",
       "4   73649.73  \n",
       "\n",
       "[5 rows x 370 columns]"
      ]
     },
     "execution_count": 8,
     "metadata": {},
     "output_type": "execute_result"
    }
   ],
   "source": [
    "test_data.head()"
   ]
  },
  {
   "cell_type": "code",
   "execution_count": 9,
   "id": "bored-template",
   "metadata": {},
   "outputs": [
    {
     "data": {
      "text/html": [
       "<div>\n",
       "<style scoped>\n",
       "    .dataframe tbody tr th:only-of-type {\n",
       "        vertical-align: middle;\n",
       "    }\n",
       "\n",
       "    .dataframe tbody tr th {\n",
       "        vertical-align: top;\n",
       "    }\n",
       "\n",
       "    .dataframe thead th {\n",
       "        text-align: right;\n",
       "    }\n",
       "</style>\n",
       "<table border=\"1\" class=\"dataframe\">\n",
       "  <thead>\n",
       "    <tr style=\"text-align: right;\">\n",
       "      <th></th>\n",
       "      <th>ID</th>\n",
       "      <th>var3</th>\n",
       "      <th>var15</th>\n",
       "      <th>imp_ent_var16_ult1</th>\n",
       "      <th>imp_op_var39_comer_ult1</th>\n",
       "      <th>imp_op_var39_comer_ult3</th>\n",
       "      <th>imp_op_var40_comer_ult1</th>\n",
       "      <th>imp_op_var40_comer_ult3</th>\n",
       "      <th>imp_op_var40_efect_ult1</th>\n",
       "      <th>imp_op_var40_efect_ult3</th>\n",
       "      <th>...</th>\n",
       "      <th>saldo_medio_var33_hace2</th>\n",
       "      <th>saldo_medio_var33_hace3</th>\n",
       "      <th>saldo_medio_var33_ult1</th>\n",
       "      <th>saldo_medio_var33_ult3</th>\n",
       "      <th>saldo_medio_var44_hace2</th>\n",
       "      <th>saldo_medio_var44_hace3</th>\n",
       "      <th>saldo_medio_var44_ult1</th>\n",
       "      <th>saldo_medio_var44_ult3</th>\n",
       "      <th>var38</th>\n",
       "      <th>TARGET</th>\n",
       "    </tr>\n",
       "  </thead>\n",
       "  <tbody>\n",
       "    <tr>\n",
       "      <th>count</th>\n",
       "      <td>76020.000000</td>\n",
       "      <td>76020.000000</td>\n",
       "      <td>76020.000000</td>\n",
       "      <td>76020.000000</td>\n",
       "      <td>76020.000000</td>\n",
       "      <td>76020.000000</td>\n",
       "      <td>76020.000000</td>\n",
       "      <td>76020.000000</td>\n",
       "      <td>76020.000000</td>\n",
       "      <td>76020.000000</td>\n",
       "      <td>...</td>\n",
       "      <td>76020.000000</td>\n",
       "      <td>76020.000000</td>\n",
       "      <td>76020.000000</td>\n",
       "      <td>76020.000000</td>\n",
       "      <td>76020.000000</td>\n",
       "      <td>76020.000000</td>\n",
       "      <td>76020.000000</td>\n",
       "      <td>76020.000000</td>\n",
       "      <td>7.602000e+04</td>\n",
       "      <td>76020.000000</td>\n",
       "    </tr>\n",
       "    <tr>\n",
       "      <th>mean</th>\n",
       "      <td>75964.050723</td>\n",
       "      <td>-1523.199277</td>\n",
       "      <td>33.212865</td>\n",
       "      <td>86.208265</td>\n",
       "      <td>72.363067</td>\n",
       "      <td>119.529632</td>\n",
       "      <td>3.559130</td>\n",
       "      <td>6.472698</td>\n",
       "      <td>0.412946</td>\n",
       "      <td>0.567352</td>\n",
       "      <td>...</td>\n",
       "      <td>7.935824</td>\n",
       "      <td>1.365146</td>\n",
       "      <td>12.215580</td>\n",
       "      <td>8.784074</td>\n",
       "      <td>31.505324</td>\n",
       "      <td>1.858575</td>\n",
       "      <td>76.026165</td>\n",
       "      <td>56.614351</td>\n",
       "      <td>1.172358e+05</td>\n",
       "      <td>0.039569</td>\n",
       "    </tr>\n",
       "    <tr>\n",
       "      <th>std</th>\n",
       "      <td>43781.947379</td>\n",
       "      <td>39033.462364</td>\n",
       "      <td>12.956486</td>\n",
       "      <td>1614.757313</td>\n",
       "      <td>339.315831</td>\n",
       "      <td>546.266294</td>\n",
       "      <td>93.155749</td>\n",
       "      <td>153.737066</td>\n",
       "      <td>30.604864</td>\n",
       "      <td>36.513513</td>\n",
       "      <td>...</td>\n",
       "      <td>455.887218</td>\n",
       "      <td>113.959637</td>\n",
       "      <td>783.207399</td>\n",
       "      <td>538.439211</td>\n",
       "      <td>2013.125393</td>\n",
       "      <td>147.786584</td>\n",
       "      <td>4040.337842</td>\n",
       "      <td>2852.579397</td>\n",
       "      <td>1.826646e+05</td>\n",
       "      <td>0.194945</td>\n",
       "    </tr>\n",
       "    <tr>\n",
       "      <th>min</th>\n",
       "      <td>1.000000</td>\n",
       "      <td>-999999.000000</td>\n",
       "      <td>5.000000</td>\n",
       "      <td>0.000000</td>\n",
       "      <td>0.000000</td>\n",
       "      <td>0.000000</td>\n",
       "      <td>0.000000</td>\n",
       "      <td>0.000000</td>\n",
       "      <td>0.000000</td>\n",
       "      <td>0.000000</td>\n",
       "      <td>...</td>\n",
       "      <td>0.000000</td>\n",
       "      <td>0.000000</td>\n",
       "      <td>0.000000</td>\n",
       "      <td>0.000000</td>\n",
       "      <td>0.000000</td>\n",
       "      <td>0.000000</td>\n",
       "      <td>0.000000</td>\n",
       "      <td>0.000000</td>\n",
       "      <td>5.163750e+03</td>\n",
       "      <td>0.000000</td>\n",
       "    </tr>\n",
       "    <tr>\n",
       "      <th>25%</th>\n",
       "      <td>38104.750000</td>\n",
       "      <td>2.000000</td>\n",
       "      <td>23.000000</td>\n",
       "      <td>0.000000</td>\n",
       "      <td>0.000000</td>\n",
       "      <td>0.000000</td>\n",
       "      <td>0.000000</td>\n",
       "      <td>0.000000</td>\n",
       "      <td>0.000000</td>\n",
       "      <td>0.000000</td>\n",
       "      <td>...</td>\n",
       "      <td>0.000000</td>\n",
       "      <td>0.000000</td>\n",
       "      <td>0.000000</td>\n",
       "      <td>0.000000</td>\n",
       "      <td>0.000000</td>\n",
       "      <td>0.000000</td>\n",
       "      <td>0.000000</td>\n",
       "      <td>0.000000</td>\n",
       "      <td>6.787061e+04</td>\n",
       "      <td>0.000000</td>\n",
       "    </tr>\n",
       "    <tr>\n",
       "      <th>50%</th>\n",
       "      <td>76043.000000</td>\n",
       "      <td>2.000000</td>\n",
       "      <td>28.000000</td>\n",
       "      <td>0.000000</td>\n",
       "      <td>0.000000</td>\n",
       "      <td>0.000000</td>\n",
       "      <td>0.000000</td>\n",
       "      <td>0.000000</td>\n",
       "      <td>0.000000</td>\n",
       "      <td>0.000000</td>\n",
       "      <td>...</td>\n",
       "      <td>0.000000</td>\n",
       "      <td>0.000000</td>\n",
       "      <td>0.000000</td>\n",
       "      <td>0.000000</td>\n",
       "      <td>0.000000</td>\n",
       "      <td>0.000000</td>\n",
       "      <td>0.000000</td>\n",
       "      <td>0.000000</td>\n",
       "      <td>1.064092e+05</td>\n",
       "      <td>0.000000</td>\n",
       "    </tr>\n",
       "    <tr>\n",
       "      <th>75%</th>\n",
       "      <td>113748.750000</td>\n",
       "      <td>2.000000</td>\n",
       "      <td>40.000000</td>\n",
       "      <td>0.000000</td>\n",
       "      <td>0.000000</td>\n",
       "      <td>0.000000</td>\n",
       "      <td>0.000000</td>\n",
       "      <td>0.000000</td>\n",
       "      <td>0.000000</td>\n",
       "      <td>0.000000</td>\n",
       "      <td>...</td>\n",
       "      <td>0.000000</td>\n",
       "      <td>0.000000</td>\n",
       "      <td>0.000000</td>\n",
       "      <td>0.000000</td>\n",
       "      <td>0.000000</td>\n",
       "      <td>0.000000</td>\n",
       "      <td>0.000000</td>\n",
       "      <td>0.000000</td>\n",
       "      <td>1.187563e+05</td>\n",
       "      <td>0.000000</td>\n",
       "    </tr>\n",
       "    <tr>\n",
       "      <th>max</th>\n",
       "      <td>151838.000000</td>\n",
       "      <td>238.000000</td>\n",
       "      <td>105.000000</td>\n",
       "      <td>210000.000000</td>\n",
       "      <td>12888.030000</td>\n",
       "      <td>21024.810000</td>\n",
       "      <td>8237.820000</td>\n",
       "      <td>11073.570000</td>\n",
       "      <td>6600.000000</td>\n",
       "      <td>6600.000000</td>\n",
       "      <td>...</td>\n",
       "      <td>50003.880000</td>\n",
       "      <td>20385.720000</td>\n",
       "      <td>138831.630000</td>\n",
       "      <td>91778.730000</td>\n",
       "      <td>438329.220000</td>\n",
       "      <td>24650.010000</td>\n",
       "      <td>681462.900000</td>\n",
       "      <td>397884.300000</td>\n",
       "      <td>2.203474e+07</td>\n",
       "      <td>1.000000</td>\n",
       "    </tr>\n",
       "  </tbody>\n",
       "</table>\n",
       "<p>8 rows × 371 columns</p>\n",
       "</div>"
      ],
      "text/plain": [
       "                  ID           var3         var15  imp_ent_var16_ult1  \\\n",
       "count   76020.000000   76020.000000  76020.000000        76020.000000   \n",
       "mean    75964.050723   -1523.199277     33.212865           86.208265   \n",
       "std     43781.947379   39033.462364     12.956486         1614.757313   \n",
       "min         1.000000 -999999.000000      5.000000            0.000000   \n",
       "25%     38104.750000       2.000000     23.000000            0.000000   \n",
       "50%     76043.000000       2.000000     28.000000            0.000000   \n",
       "75%    113748.750000       2.000000     40.000000            0.000000   \n",
       "max    151838.000000     238.000000    105.000000       210000.000000   \n",
       "\n",
       "       imp_op_var39_comer_ult1  imp_op_var39_comer_ult3  \\\n",
       "count             76020.000000             76020.000000   \n",
       "mean                 72.363067               119.529632   \n",
       "std                 339.315831               546.266294   \n",
       "min                   0.000000                 0.000000   \n",
       "25%                   0.000000                 0.000000   \n",
       "50%                   0.000000                 0.000000   \n",
       "75%                   0.000000                 0.000000   \n",
       "max               12888.030000             21024.810000   \n",
       "\n",
       "       imp_op_var40_comer_ult1  imp_op_var40_comer_ult3  \\\n",
       "count             76020.000000             76020.000000   \n",
       "mean                  3.559130                 6.472698   \n",
       "std                  93.155749               153.737066   \n",
       "min                   0.000000                 0.000000   \n",
       "25%                   0.000000                 0.000000   \n",
       "50%                   0.000000                 0.000000   \n",
       "75%                   0.000000                 0.000000   \n",
       "max                8237.820000             11073.570000   \n",
       "\n",
       "       imp_op_var40_efect_ult1  imp_op_var40_efect_ult3  ...  \\\n",
       "count             76020.000000             76020.000000  ...   \n",
       "mean                  0.412946                 0.567352  ...   \n",
       "std                  30.604864                36.513513  ...   \n",
       "min                   0.000000                 0.000000  ...   \n",
       "25%                   0.000000                 0.000000  ...   \n",
       "50%                   0.000000                 0.000000  ...   \n",
       "75%                   0.000000                 0.000000  ...   \n",
       "max                6600.000000              6600.000000  ...   \n",
       "\n",
       "       saldo_medio_var33_hace2  saldo_medio_var33_hace3  \\\n",
       "count             76020.000000             76020.000000   \n",
       "mean                  7.935824                 1.365146   \n",
       "std                 455.887218               113.959637   \n",
       "min                   0.000000                 0.000000   \n",
       "25%                   0.000000                 0.000000   \n",
       "50%                   0.000000                 0.000000   \n",
       "75%                   0.000000                 0.000000   \n",
       "max               50003.880000             20385.720000   \n",
       "\n",
       "       saldo_medio_var33_ult1  saldo_medio_var33_ult3  \\\n",
       "count            76020.000000            76020.000000   \n",
       "mean                12.215580                8.784074   \n",
       "std                783.207399              538.439211   \n",
       "min                  0.000000                0.000000   \n",
       "25%                  0.000000                0.000000   \n",
       "50%                  0.000000                0.000000   \n",
       "75%                  0.000000                0.000000   \n",
       "max             138831.630000            91778.730000   \n",
       "\n",
       "       saldo_medio_var44_hace2  saldo_medio_var44_hace3  \\\n",
       "count             76020.000000             76020.000000   \n",
       "mean                 31.505324                 1.858575   \n",
       "std                2013.125393               147.786584   \n",
       "min                   0.000000                 0.000000   \n",
       "25%                   0.000000                 0.000000   \n",
       "50%                   0.000000                 0.000000   \n",
       "75%                   0.000000                 0.000000   \n",
       "max              438329.220000             24650.010000   \n",
       "\n",
       "       saldo_medio_var44_ult1  saldo_medio_var44_ult3         var38  \\\n",
       "count            76020.000000            76020.000000  7.602000e+04   \n",
       "mean                76.026165               56.614351  1.172358e+05   \n",
       "std               4040.337842             2852.579397  1.826646e+05   \n",
       "min                  0.000000                0.000000  5.163750e+03   \n",
       "25%                  0.000000                0.000000  6.787061e+04   \n",
       "50%                  0.000000                0.000000  1.064092e+05   \n",
       "75%                  0.000000                0.000000  1.187563e+05   \n",
       "max             681462.900000           397884.300000  2.203474e+07   \n",
       "\n",
       "             TARGET  \n",
       "count  76020.000000  \n",
       "mean       0.039569  \n",
       "std        0.194945  \n",
       "min        0.000000  \n",
       "25%        0.000000  \n",
       "50%        0.000000  \n",
       "75%        0.000000  \n",
       "max        1.000000  \n",
       "\n",
       "[8 rows x 371 columns]"
      ]
     },
     "execution_count": 9,
     "metadata": {},
     "output_type": "execute_result"
    }
   ],
   "source": [
    "train_data.describe()"
   ]
  },
  {
   "cell_type": "code",
   "execution_count": 10,
   "id": "devoted-register",
   "metadata": {},
   "outputs": [
    {
     "data": {
      "text/html": [
       "<div>\n",
       "<style scoped>\n",
       "    .dataframe tbody tr th:only-of-type {\n",
       "        vertical-align: middle;\n",
       "    }\n",
       "\n",
       "    .dataframe tbody tr th {\n",
       "        vertical-align: top;\n",
       "    }\n",
       "\n",
       "    .dataframe thead th {\n",
       "        text-align: right;\n",
       "    }\n",
       "</style>\n",
       "<table border=\"1\" class=\"dataframe\">\n",
       "  <thead>\n",
       "    <tr style=\"text-align: right;\">\n",
       "      <th></th>\n",
       "      <th>ID</th>\n",
       "      <th>var3</th>\n",
       "      <th>var15</th>\n",
       "      <th>imp_ent_var16_ult1</th>\n",
       "      <th>imp_op_var39_comer_ult1</th>\n",
       "      <th>imp_op_var39_comer_ult3</th>\n",
       "      <th>imp_op_var40_comer_ult1</th>\n",
       "      <th>imp_op_var40_comer_ult3</th>\n",
       "      <th>imp_op_var40_efect_ult1</th>\n",
       "      <th>imp_op_var40_efect_ult3</th>\n",
       "      <th>...</th>\n",
       "      <th>saldo_medio_var29_ult3</th>\n",
       "      <th>saldo_medio_var33_hace2</th>\n",
       "      <th>saldo_medio_var33_hace3</th>\n",
       "      <th>saldo_medio_var33_ult1</th>\n",
       "      <th>saldo_medio_var33_ult3</th>\n",
       "      <th>saldo_medio_var44_hace2</th>\n",
       "      <th>saldo_medio_var44_hace3</th>\n",
       "      <th>saldo_medio_var44_ult1</th>\n",
       "      <th>saldo_medio_var44_ult3</th>\n",
       "      <th>var38</th>\n",
       "    </tr>\n",
       "  </thead>\n",
       "  <tbody>\n",
       "    <tr>\n",
       "      <th>count</th>\n",
       "      <td>75818.000000</td>\n",
       "      <td>75818.000000</td>\n",
       "      <td>75818.000000</td>\n",
       "      <td>75818.000000</td>\n",
       "      <td>75818.000000</td>\n",
       "      <td>75818.000000</td>\n",
       "      <td>75818.000000</td>\n",
       "      <td>75818.000000</td>\n",
       "      <td>75818.000000</td>\n",
       "      <td>75818.000000</td>\n",
       "      <td>...</td>\n",
       "      <td>75818.000000</td>\n",
       "      <td>75818.000000</td>\n",
       "      <td>75818.000000</td>\n",
       "      <td>75818.000000</td>\n",
       "      <td>75818.000000</td>\n",
       "      <td>75818.000000</td>\n",
       "      <td>75818.000000</td>\n",
       "      <td>75818.000000</td>\n",
       "      <td>75818.000000</td>\n",
       "      <td>7.581800e+04</td>\n",
       "    </tr>\n",
       "    <tr>\n",
       "      <th>mean</th>\n",
       "      <td>75874.830581</td>\n",
       "      <td>-1579.955011</td>\n",
       "      <td>33.138832</td>\n",
       "      <td>83.164329</td>\n",
       "      <td>74.312894</td>\n",
       "      <td>123.136448</td>\n",
       "      <td>4.578517</td>\n",
       "      <td>7.666855</td>\n",
       "      <td>0.470645</td>\n",
       "      <td>0.672444</td>\n",
       "      <td>...</td>\n",
       "      <td>0.160595</td>\n",
       "      <td>12.438559</td>\n",
       "      <td>1.327408</td>\n",
       "      <td>17.469991</td>\n",
       "      <td>12.674349</td>\n",
       "      <td>63.597839</td>\n",
       "      <td>11.404505</td>\n",
       "      <td>95.973025</td>\n",
       "      <td>70.504319</td>\n",
       "      <td>1.173863e+05</td>\n",
       "    </tr>\n",
       "    <tr>\n",
       "      <th>std</th>\n",
       "      <td>43882.370827</td>\n",
       "      <td>39752.473358</td>\n",
       "      <td>12.932000</td>\n",
       "      <td>1694.873886</td>\n",
       "      <td>364.211245</td>\n",
       "      <td>606.431562</td>\n",
       "      <td>133.383326</td>\n",
       "      <td>239.701416</td>\n",
       "      <td>34.028605</td>\n",
       "      <td>42.336668</td>\n",
       "      <td>...</td>\n",
       "      <td>32.441677</td>\n",
       "      <td>958.651673</td>\n",
       "      <td>170.449935</td>\n",
       "      <td>1252.618781</td>\n",
       "      <td>895.165516</td>\n",
       "      <td>3754.668954</td>\n",
       "      <td>1061.858193</td>\n",
       "      <td>4658.871575</td>\n",
       "      <td>3318.527783</td>\n",
       "      <td>2.479384e+05</td>\n",
       "    </tr>\n",
       "    <tr>\n",
       "      <th>min</th>\n",
       "      <td>2.000000</td>\n",
       "      <td>-999999.000000</td>\n",
       "      <td>5.000000</td>\n",
       "      <td>0.000000</td>\n",
       "      <td>0.000000</td>\n",
       "      <td>0.000000</td>\n",
       "      <td>0.000000</td>\n",
       "      <td>0.000000</td>\n",
       "      <td>0.000000</td>\n",
       "      <td>0.000000</td>\n",
       "      <td>...</td>\n",
       "      <td>0.000000</td>\n",
       "      <td>0.000000</td>\n",
       "      <td>0.000000</td>\n",
       "      <td>-0.600000</td>\n",
       "      <td>-0.600000</td>\n",
       "      <td>0.000000</td>\n",
       "      <td>0.000000</td>\n",
       "      <td>0.000000</td>\n",
       "      <td>0.000000</td>\n",
       "      <td>1.202730e+03</td>\n",
       "    </tr>\n",
       "    <tr>\n",
       "      <th>25%</th>\n",
       "      <td>37840.250000</td>\n",
       "      <td>2.000000</td>\n",
       "      <td>23.000000</td>\n",
       "      <td>0.000000</td>\n",
       "      <td>0.000000</td>\n",
       "      <td>0.000000</td>\n",
       "      <td>0.000000</td>\n",
       "      <td>0.000000</td>\n",
       "      <td>0.000000</td>\n",
       "      <td>0.000000</td>\n",
       "      <td>...</td>\n",
       "      <td>0.000000</td>\n",
       "      <td>0.000000</td>\n",
       "      <td>0.000000</td>\n",
       "      <td>0.000000</td>\n",
       "      <td>0.000000</td>\n",
       "      <td>0.000000</td>\n",
       "      <td>0.000000</td>\n",
       "      <td>0.000000</td>\n",
       "      <td>0.000000</td>\n",
       "      <td>6.754961e+04</td>\n",
       "    </tr>\n",
       "    <tr>\n",
       "      <th>50%</th>\n",
       "      <td>75810.000000</td>\n",
       "      <td>2.000000</td>\n",
       "      <td>27.000000</td>\n",
       "      <td>0.000000</td>\n",
       "      <td>0.000000</td>\n",
       "      <td>0.000000</td>\n",
       "      <td>0.000000</td>\n",
       "      <td>0.000000</td>\n",
       "      <td>0.000000</td>\n",
       "      <td>0.000000</td>\n",
       "      <td>...</td>\n",
       "      <td>0.000000</td>\n",
       "      <td>0.000000</td>\n",
       "      <td>0.000000</td>\n",
       "      <td>0.000000</td>\n",
       "      <td>0.000000</td>\n",
       "      <td>0.000000</td>\n",
       "      <td>0.000000</td>\n",
       "      <td>0.000000</td>\n",
       "      <td>0.000000</td>\n",
       "      <td>1.057643e+05</td>\n",
       "    </tr>\n",
       "    <tr>\n",
       "      <th>75%</th>\n",
       "      <td>113996.500000</td>\n",
       "      <td>2.000000</td>\n",
       "      <td>39.000000</td>\n",
       "      <td>0.000000</td>\n",
       "      <td>0.000000</td>\n",
       "      <td>0.000000</td>\n",
       "      <td>0.000000</td>\n",
       "      <td>0.000000</td>\n",
       "      <td>0.000000</td>\n",
       "      <td>0.000000</td>\n",
       "      <td>...</td>\n",
       "      <td>0.000000</td>\n",
       "      <td>0.000000</td>\n",
       "      <td>0.000000</td>\n",
       "      <td>0.000000</td>\n",
       "      <td>0.000000</td>\n",
       "      <td>0.000000</td>\n",
       "      <td>0.000000</td>\n",
       "      <td>0.000000</td>\n",
       "      <td>0.000000</td>\n",
       "      <td>1.183159e+05</td>\n",
       "    </tr>\n",
       "    <tr>\n",
       "      <th>max</th>\n",
       "      <td>151837.000000</td>\n",
       "      <td>238.000000</td>\n",
       "      <td>105.000000</td>\n",
       "      <td>240000.000000</td>\n",
       "      <td>21093.960000</td>\n",
       "      <td>47943.960000</td>\n",
       "      <td>21093.960000</td>\n",
       "      <td>47943.960000</td>\n",
       "      <td>6600.000000</td>\n",
       "      <td>6600.000000</td>\n",
       "      <td>...</td>\n",
       "      <td>8030.160000</td>\n",
       "      <td>146605.320000</td>\n",
       "      <td>40080.600000</td>\n",
       "      <td>162355.800000</td>\n",
       "      <td>138054.960000</td>\n",
       "      <td>453893.400000</td>\n",
       "      <td>217762.230000</td>\n",
       "      <td>496198.080000</td>\n",
       "      <td>354260.730000</td>\n",
       "      <td>2.889440e+07</td>\n",
       "    </tr>\n",
       "  </tbody>\n",
       "</table>\n",
       "<p>8 rows × 370 columns</p>\n",
       "</div>"
      ],
      "text/plain": [
       "                  ID           var3         var15  imp_ent_var16_ult1  \\\n",
       "count   75818.000000   75818.000000  75818.000000        75818.000000   \n",
       "mean    75874.830581   -1579.955011     33.138832           83.164329   \n",
       "std     43882.370827   39752.473358     12.932000         1694.873886   \n",
       "min         2.000000 -999999.000000      5.000000            0.000000   \n",
       "25%     37840.250000       2.000000     23.000000            0.000000   \n",
       "50%     75810.000000       2.000000     27.000000            0.000000   \n",
       "75%    113996.500000       2.000000     39.000000            0.000000   \n",
       "max    151837.000000     238.000000    105.000000       240000.000000   \n",
       "\n",
       "       imp_op_var39_comer_ult1  imp_op_var39_comer_ult3  \\\n",
       "count             75818.000000             75818.000000   \n",
       "mean                 74.312894               123.136448   \n",
       "std                 364.211245               606.431562   \n",
       "min                   0.000000                 0.000000   \n",
       "25%                   0.000000                 0.000000   \n",
       "50%                   0.000000                 0.000000   \n",
       "75%                   0.000000                 0.000000   \n",
       "max               21093.960000             47943.960000   \n",
       "\n",
       "       imp_op_var40_comer_ult1  imp_op_var40_comer_ult3  \\\n",
       "count             75818.000000             75818.000000   \n",
       "mean                  4.578517                 7.666855   \n",
       "std                 133.383326               239.701416   \n",
       "min                   0.000000                 0.000000   \n",
       "25%                   0.000000                 0.000000   \n",
       "50%                   0.000000                 0.000000   \n",
       "75%                   0.000000                 0.000000   \n",
       "max               21093.960000             47943.960000   \n",
       "\n",
       "       imp_op_var40_efect_ult1  imp_op_var40_efect_ult3  ...  \\\n",
       "count             75818.000000             75818.000000  ...   \n",
       "mean                  0.470645                 0.672444  ...   \n",
       "std                  34.028605                42.336668  ...   \n",
       "min                   0.000000                 0.000000  ...   \n",
       "25%                   0.000000                 0.000000  ...   \n",
       "50%                   0.000000                 0.000000  ...   \n",
       "75%                   0.000000                 0.000000  ...   \n",
       "max                6600.000000              6600.000000  ...   \n",
       "\n",
       "       saldo_medio_var29_ult3  saldo_medio_var33_hace2  \\\n",
       "count            75818.000000             75818.000000   \n",
       "mean                 0.160595                12.438559   \n",
       "std                 32.441677               958.651673   \n",
       "min                  0.000000                 0.000000   \n",
       "25%                  0.000000                 0.000000   \n",
       "50%                  0.000000                 0.000000   \n",
       "75%                  0.000000                 0.000000   \n",
       "max               8030.160000            146605.320000   \n",
       "\n",
       "       saldo_medio_var33_hace3  saldo_medio_var33_ult1  \\\n",
       "count             75818.000000            75818.000000   \n",
       "mean                  1.327408               17.469991   \n",
       "std                 170.449935             1252.618781   \n",
       "min                   0.000000               -0.600000   \n",
       "25%                   0.000000                0.000000   \n",
       "50%                   0.000000                0.000000   \n",
       "75%                   0.000000                0.000000   \n",
       "max               40080.600000           162355.800000   \n",
       "\n",
       "       saldo_medio_var33_ult3  saldo_medio_var44_hace2  \\\n",
       "count            75818.000000             75818.000000   \n",
       "mean                12.674349                63.597839   \n",
       "std                895.165516              3754.668954   \n",
       "min                 -0.600000                 0.000000   \n",
       "25%                  0.000000                 0.000000   \n",
       "50%                  0.000000                 0.000000   \n",
       "75%                  0.000000                 0.000000   \n",
       "max             138054.960000            453893.400000   \n",
       "\n",
       "       saldo_medio_var44_hace3  saldo_medio_var44_ult1  \\\n",
       "count             75818.000000            75818.000000   \n",
       "mean                 11.404505               95.973025   \n",
       "std                1061.858193             4658.871575   \n",
       "min                   0.000000                0.000000   \n",
       "25%                   0.000000                0.000000   \n",
       "50%                   0.000000                0.000000   \n",
       "75%                   0.000000                0.000000   \n",
       "max              217762.230000           496198.080000   \n",
       "\n",
       "       saldo_medio_var44_ult3         var38  \n",
       "count            75818.000000  7.581800e+04  \n",
       "mean                70.504319  1.173863e+05  \n",
       "std               3318.527783  2.479384e+05  \n",
       "min                  0.000000  1.202730e+03  \n",
       "25%                  0.000000  6.754961e+04  \n",
       "50%                  0.000000  1.057643e+05  \n",
       "75%                  0.000000  1.183159e+05  \n",
       "max             354260.730000  2.889440e+07  \n",
       "\n",
       "[8 rows x 370 columns]"
      ]
     },
     "execution_count": 10,
     "metadata": {},
     "output_type": "execute_result"
    }
   ],
   "source": [
    "test_data.describe()"
   ]
  },
  {
   "cell_type": "code",
   "execution_count": 11,
   "id": "necessary-match",
   "metadata": {},
   "outputs": [
    {
     "name": "stdout",
     "output_type": "stream",
     "text": [
      "<class 'pandas.core.frame.DataFrame'>\n",
      "RangeIndex: 76020 entries, 0 to 76019\n",
      "Columns: 371 entries, ID to TARGET\n",
      "dtypes: float64(111), int64(260)\n",
      "memory usage: 215.2 MB\n"
     ]
    }
   ],
   "source": [
    "train_data.info()"
   ]
  },
  {
   "cell_type": "code",
   "execution_count": 12,
   "id": "incomplete-programmer",
   "metadata": {},
   "outputs": [
    {
     "name": "stdout",
     "output_type": "stream",
     "text": [
      "<class 'pandas.core.frame.DataFrame'>\n",
      "RangeIndex: 75818 entries, 0 to 75817\n",
      "Columns: 370 entries, ID to var38\n",
      "dtypes: float64(110), int64(260)\n",
      "memory usage: 214.0 MB\n"
     ]
    }
   ],
   "source": [
    "test_data.info()"
   ]
  },
  {
   "cell_type": "code",
   "execution_count": 13,
   "id": "alternate-gender",
   "metadata": {},
   "outputs": [
    {
     "data": {
      "text/plain": [
       "ID                           int64\n",
       "var3                         int64\n",
       "var15                        int64\n",
       "imp_ent_var16_ult1         float64\n",
       "imp_op_var39_comer_ult1    float64\n",
       "                            ...   \n",
       "saldo_medio_var44_hace3    float64\n",
       "saldo_medio_var44_ult1     float64\n",
       "saldo_medio_var44_ult3     float64\n",
       "var38                      float64\n",
       "TARGET                       int64\n",
       "Length: 371, dtype: object"
      ]
     },
     "execution_count": 13,
     "metadata": {},
     "output_type": "execute_result"
    }
   ],
   "source": [
    "train_data.dtypes"
   ]
  },
  {
   "cell_type": "code",
   "execution_count": 14,
   "id": "scenic-arnold",
   "metadata": {},
   "outputs": [
    {
     "data": {
      "text/plain": [
       "ID                           int64\n",
       "var3                         int64\n",
       "var15                        int64\n",
       "imp_ent_var16_ult1         float64\n",
       "imp_op_var39_comer_ult1    float64\n",
       "                            ...   \n",
       "saldo_medio_var44_hace2    float64\n",
       "saldo_medio_var44_hace3    float64\n",
       "saldo_medio_var44_ult1     float64\n",
       "saldo_medio_var44_ult3     float64\n",
       "var38                      float64\n",
       "Length: 370, dtype: object"
      ]
     },
     "execution_count": 14,
     "metadata": {},
     "output_type": "execute_result"
    }
   ],
   "source": [
    "test_data.dtypes"
   ]
  },
  {
   "cell_type": "code",
   "execution_count": 15,
   "id": "foster-requirement",
   "metadata": {},
   "outputs": [],
   "source": [
    "y_train = train_data['TARGET']"
   ]
  },
  {
   "cell_type": "code",
   "execution_count": 16,
   "id": "generous-pilot",
   "metadata": {},
   "outputs": [
    {
     "data": {
      "text/plain": [
       "(76020,)"
      ]
     },
     "execution_count": 16,
     "metadata": {},
     "output_type": "execute_result"
    }
   ],
   "source": [
    "y_train.shape"
   ]
  },
  {
   "cell_type": "code",
   "execution_count": 17,
   "id": "anonymous-rubber",
   "metadata": {},
   "outputs": [
    {
     "data": {
      "text/plain": [
       "0        0\n",
       "1        0\n",
       "2        0\n",
       "3        0\n",
       "4        0\n",
       "        ..\n",
       "76015    0\n",
       "76016    0\n",
       "76017    0\n",
       "76018    0\n",
       "76019    0\n",
       "Name: TARGET, Length: 76020, dtype: int64"
      ]
     },
     "execution_count": 17,
     "metadata": {},
     "output_type": "execute_result"
    }
   ],
   "source": [
    "y_train"
   ]
  },
  {
   "cell_type": "markdown",
   "id": "pharmaceutical-printer",
   "metadata": {},
   "source": [
    "Firstly, getting those columns which have less than or equal to 10 nunique values\n",
    "Those features will be identified as \"categorical\""
   ]
  },
  {
   "cell_type": "code",
   "execution_count": 18,
   "id": "consistent-prompt",
   "metadata": {},
   "outputs": [],
   "source": [
    "\n",
    "\n",
    "categorical_feat = []\n",
    "for column in train_data.columns:\n",
    "    if (train_data[column].nunique()<=10) & (column!='TARGET') & (train_data[column].nunique()>2) & (column!='ID'):\n",
    "        categorical_feat.append(column)\n"
   ]
  },
  {
   "cell_type": "code",
   "execution_count": 19,
   "id": "divine-smooth",
   "metadata": {},
   "outputs": [
    {
     "data": {
      "text/plain": [
       "99"
      ]
     },
     "execution_count": 19,
     "metadata": {},
     "output_type": "execute_result"
    }
   ],
   "source": [
    "len(categorical_feat)"
   ]
  },
  {
   "cell_type": "code",
   "execution_count": 20,
   "id": "potential-royalty",
   "metadata": {},
   "outputs": [
    {
     "data": {
      "text/plain": [
       "list"
      ]
     },
     "execution_count": 20,
     "metadata": {},
     "output_type": "execute_result"
    }
   ],
   "source": [
    "type(categorical_feat)"
   ]
  },
  {
   "cell_type": "markdown",
   "id": "purple-simpson",
   "metadata": {},
   "source": [
    "So, there are 99 features with more than 2 and less than or equal to 10 unique values"
   ]
  },
  {
   "cell_type": "code",
   "execution_count": 21,
   "id": "partial-category",
   "metadata": {},
   "outputs": [
    {
     "data": {
      "text/plain": [
       "(76020, 99)"
      ]
     },
     "execution_count": 21,
     "metadata": {},
     "output_type": "execute_result"
    }
   ],
   "source": [
    "train_data[categorical_feat].shape"
   ]
  },
  {
   "cell_type": "markdown",
   "id": "suburban-freeware",
   "metadata": {},
   "source": [
    " Now identify those features which have only 2 unique values\n"
   ]
  },
  {
   "cell_type": "code",
   "execution_count": 22,
   "id": "everyday-stupid",
   "metadata": {},
   "outputs": [],
   "source": [
    "\n",
    "caty_feat_two = []\n",
    "for column in train_data.columns:\n",
    "    if (train_data[column].nunique()==2) & (column!='TARGET') & (column!='ID'):\n",
    "        caty_feat_two.append(column)\n"
   ]
  },
  {
   "cell_type": "code",
   "execution_count": 23,
   "id": "electronic-venue",
   "metadata": {},
   "outputs": [
    {
     "data": {
      "text/plain": [
       "105"
      ]
     },
     "execution_count": 23,
     "metadata": {},
     "output_type": "execute_result"
    }
   ],
   "source": [
    "len(caty_feat_two)"
   ]
  },
  {
   "cell_type": "markdown",
   "id": "dramatic-billion",
   "metadata": {},
   "source": [
    "Hence, there are 105 features with 2 unique values"
   ]
  },
  {
   "cell_type": "code",
   "execution_count": 24,
   "id": "latest-abraham",
   "metadata": {},
   "outputs": [],
   "source": [
    "#train_data[caty_feat_two]"
   ]
  },
  {
   "cell_type": "code",
   "execution_count": 25,
   "id": "civic-listening",
   "metadata": {},
   "outputs": [
    {
     "data": {
      "text/plain": [
       "(76020, 105)"
      ]
     },
     "execution_count": 25,
     "metadata": {},
     "output_type": "execute_result"
    }
   ],
   "source": [
    "train_data[caty_feat_two].shape"
   ]
  },
  {
   "cell_type": "markdown",
   "id": "interior-prediction",
   "metadata": {},
   "source": [
    " Now identify those features which have only 1 unique values"
   ]
  },
  {
   "cell_type": "code",
   "execution_count": 26,
   "id": "convinced-percentage",
   "metadata": {},
   "outputs": [],
   "source": [
    "\n",
    "\n",
    "caty_feat_one = []\n",
    "for column in train_data.columns:\n",
    "    if (train_data[column].nunique()==1) & (column!='TARGET') & (column!='ID'):\n",
    "        caty_feat_one.append(column)\n"
   ]
  },
  {
   "cell_type": "code",
   "execution_count": 27,
   "id": "mental-purse",
   "metadata": {},
   "outputs": [
    {
     "data": {
      "text/plain": [
       "34"
      ]
     },
     "execution_count": 27,
     "metadata": {},
     "output_type": "execute_result"
    }
   ],
   "source": [
    "len(caty_feat_one)"
   ]
  },
  {
   "cell_type": "markdown",
   "id": "protected-success",
   "metadata": {},
   "source": [
    "Hence, there are 34 features with only 1 unique value"
   ]
  },
  {
   "cell_type": "code",
   "execution_count": 28,
   "id": "another-addiction",
   "metadata": {},
   "outputs": [],
   "source": [
    "#train_data[caty_feat_one]"
   ]
  },
  {
   "cell_type": "code",
   "execution_count": 29,
   "id": "moderate-heater",
   "metadata": {},
   "outputs": [
    {
     "data": {
      "text/plain": [
       "(76020, 34)"
      ]
     },
     "execution_count": 29,
     "metadata": {},
     "output_type": "execute_result"
    }
   ],
   "source": [
    "train_data[caty_feat_one].shape"
   ]
  },
  {
   "cell_type": "markdown",
   "id": "present-candidate",
   "metadata": {},
   "source": [
    " Now identify those features which have more than 10 unique values"
   ]
  },
  {
   "cell_type": "code",
   "execution_count": 30,
   "id": "reasonable-signal",
   "metadata": {},
   "outputs": [],
   "source": [
    "\n",
    "\n",
    "numerical_feat = []\n",
    "for column in train_data.columns:\n",
    "    if (train_data[column].nunique()>10) & (column!='TARGET') & (column!='ID'):\n",
    "        numerical_feat.append(column)\n"
   ]
  },
  {
   "cell_type": "code",
   "execution_count": 31,
   "id": "sonic-emission",
   "metadata": {},
   "outputs": [
    {
     "data": {
      "text/plain": [
       "131"
      ]
     },
     "execution_count": 31,
     "metadata": {},
     "output_type": "execute_result"
    }
   ],
   "source": [
    "len(numerical_feat)"
   ]
  },
  {
   "cell_type": "markdown",
   "id": "lined-cloud",
   "metadata": {},
   "source": [
    "Thus, there are 131 features with more than 10 unique values and we identify such features as \"numerical-features\""
   ]
  },
  {
   "cell_type": "code",
   "execution_count": 32,
   "id": "amended-national",
   "metadata": {},
   "outputs": [
    {
     "data": {
      "text/plain": [
       "(76020, 131)"
      ]
     },
     "execution_count": 32,
     "metadata": {},
     "output_type": "execute_result"
    }
   ],
   "source": [
    "train_data[numerical_feat].shape"
   ]
  },
  {
   "cell_type": "markdown",
   "id": "sonic-submission",
   "metadata": {},
   "source": [
    "ENCODING OF NUMERICAL FEATURES USING MIN-MAX SCALAR"
   ]
  },
  {
   "cell_type": "code",
   "execution_count": 33,
   "id": "matched-comparative",
   "metadata": {},
   "outputs": [
    {
     "name": "stdout",
     "output_type": "stream",
     "text": [
      "\n",
      "After min max Scaling : \n",
      " [[0.99976406 0.18       0.         ... 0.         0.         0.00154526]\n",
      " [0.99976406 0.29       0.         ... 0.         0.         0.0020025 ]\n",
      " [0.99976406 0.18       0.         ... 0.         0.         0.00282212]\n",
      " ...\n",
      " [0.99976406 0.18       0.         ... 0.         0.         0.003126  ]\n",
      " [0.99976406 0.2        0.         ... 0.         0.         0.00359128]\n",
      " [0.99976406 0.41       0.         ... 0.         0.         0.00509076]]\n",
      "shape (76020, 131)\n",
      "\n",
      "After Standardisation : \n",
      " [[ 3.90744048e-02 -7.88248631e-01 -5.33881045e-02 ... -1.88169080e-02\n",
      "  -1.98468529e-02 -4.27182680e-01]\n",
      " [ 3.90744048e-02  6.07525955e-02 -5.33881045e-02 ... -1.88169080e-02\n",
      "  -1.98468529e-02 -3.72038298e-01]\n",
      " [ 3.90744048e-02 -7.88248631e-01 -5.33881045e-02 ... -1.88169080e-02\n",
      "  -1.98468529e-02 -2.73191237e-01]\n",
      " ...\n",
      " [ 3.90744048e-02 -7.88248631e-01 -5.33881045e-02 ... -1.88169080e-02\n",
      "  -1.98468529e-02 -2.36542515e-01]\n",
      " [ 3.90744048e-02 -6.33884772e-01 -5.33881045e-02 ... -1.88169080e-02\n",
      "  -1.98468529e-02 -1.80428318e-01]\n",
      " [ 3.90744048e-02  9.86935752e-01 -5.33881045e-02 ... -1.88169080e-02\n",
      "  -1.98468529e-02  4.11519699e-04]]\n",
      "shape (76020, 131)\n"
     ]
    }
   ],
   "source": [
    "from sklearn import preprocessing  #Ref: https://www.geeksforgeeks.org/ml-feature-scaling-part-2/\n",
    "    \n",
    "min_max_scaler = preprocessing.MinMaxScaler(feature_range =(0, 1))\n",
    "  \n",
    "# Scaled feature\n",
    "train_data_num = min_max_scaler.fit_transform(train_data[numerical_feat])\n",
    "  \n",
    "print (\"\\nAfter min max Scaling : \\n\", train_data_num)\n",
    "print(\"shape\", train_data_num.shape)\n",
    "  \n",
    "\"\"\" Standardisation \"\"\"\n",
    "  \n",
    "Standardisation = preprocessing.StandardScaler()\n",
    "  \n",
    "# Scaled feature\n",
    "train_data_numy = Standardisation.fit_transform(train_data[numerical_feat])\n",
    "  \n",
    "print (\"\\nAfter Standardisation : \\n\", train_data_numy)\n",
    "print(\"shape\", train_data_numy.shape)"
   ]
  },
  {
   "cell_type": "code",
   "execution_count": 34,
   "id": "entitled-pickup",
   "metadata": {},
   "outputs": [
    {
     "name": "stdout",
     "output_type": "stream",
     "text": [
      "\n",
      "After min max Scaling : \n",
      " [[0.99976406 0.27       0.         ... 0.         0.         0.0013612 ]\n",
      " [0.99976406 0.3        0.         ... 0.         0.         0.00153268]\n",
      " [0.99976406 0.18       0.         ... 0.         0.         0.00158484]\n",
      " ...\n",
      " [0.99976406 0.19       0.         ... 0.         0.         0.00574866]\n",
      " [0.99976406 0.35       0.         ... 0.         0.         0.00401853]\n",
      " [0.99976406 0.18       0.         ... 0.         0.         0.00401853]]\n",
      "shape (75818, 131)\n",
      "\n",
      "After Standardisation : \n",
      " [[ 3.97953966e-02 -8.80637178e-02 -4.90684752e-02 ... -2.06001940e-02\n",
      "  -2.12458020e-02 -3.09975237e-01]\n",
      " [ 3.97953966e-02  1.43920495e-01 -4.90684752e-02 ... -2.06001940e-02\n",
      "  -2.12458020e-02 -2.89991833e-01]\n",
      " [ 3.97953966e-02 -7.84016356e-01 -4.90684752e-02 ... -2.06001940e-02\n",
      "  -2.12458020e-02 -2.83912742e-01]\n",
      " ...\n",
      " [ 3.97953966e-02 -7.06688285e-01 -4.90684752e-02 ... -2.06001940e-02\n",
      "  -2.12458020e-02  2.01315149e-01]\n",
      " [ 3.97953966e-02  5.30560850e-01 -4.90684752e-02 ... -2.06001940e-02\n",
      "  -2.12458020e-02 -3.03988265e-04]\n",
      " [ 3.97953966e-02 -7.84016356e-01 -4.90684752e-02 ... -2.06001940e-02\n",
      "  -2.12458020e-02 -3.03988265e-04]]\n",
      "shape (75818, 131)\n"
     ]
    }
   ],
   "source": [
    "from sklearn import preprocessing  #Ref: https://www.geeksforgeeks.org/ml-feature-scaling-part-2/\n",
    "    \n",
    "min_max_scaler = preprocessing.MinMaxScaler(feature_range =(0, 1))\n",
    "  \n",
    "# Scaled feature\n",
    "test_data_num = min_max_scaler.fit_transform(test_data[numerical_feat])\n",
    "  \n",
    "print (\"\\nAfter min max Scaling : \\n\", test_data_num)\n",
    "print(\"shape\", test_data_num.shape)\n",
    "  \n",
    "\"\"\" Standardisation \"\"\"\n",
    "  \n",
    "Standardisation = preprocessing.StandardScaler()\n",
    "  \n",
    "# Scaled feature\n",
    "test_data_numy = Standardisation.fit_transform(test_data[numerical_feat])\n",
    "  \n",
    "print (\"\\nAfter Standardisation : \\n\", test_data_numy)\n",
    "print(\"shape\", test_data_numy.shape)"
   ]
  },
  {
   "cell_type": "code",
   "execution_count": 35,
   "id": "spatial-registrar",
   "metadata": {},
   "outputs": [],
   "source": [
    "\n",
    "from sklearn.compose import ColumnTransformer\n",
    "from sklearn.preprocessing import OneHotEncoder"
   ]
  },
  {
   "cell_type": "markdown",
   "id": "arabic-logging",
   "metadata": {},
   "source": [
    "ONE-HOT ENCODING OF FEATURES WITH LESS THAN 10 UNIQUE VALUES"
   ]
  },
  {
   "cell_type": "code",
   "execution_count": 36,
   "id": "played-governor",
   "metadata": {},
   "outputs": [
    {
     "name": "stdout",
     "output_type": "stream",
     "text": [
      "After vectorizations\n",
      "(76020, 507)\n",
      "(75818, 507)\n"
     ]
    }
   ],
   "source": [
    "# Reference: https://stackoverflow.com/questions/55525195/do-i-have-to-do-one-hot-encoding-separately-for-train-and-test-dataset\n",
    "import pandas as pd\n",
    "from sklearn.preprocessing import OneHotEncoder\n",
    "\n",
    "\n",
    "enc = OneHotEncoder(handle_unknown = 'ignore')\n",
    "enc.fit(train_data[categorical_feat])\n",
    "\n",
    "train_data_cat = enc.transform(train_data[categorical_feat]).toarray()\n",
    "\n",
    "\n",
    "test_data_cat = enc.transform(test_data[categorical_feat]).toarray()\n",
    "\n",
    "#enc_df = pd.DataFrame(enc.fit_transform(bridge_df[['Bridge_Types_Cat']]).toarray())\n",
    "\n",
    "print(\"After vectorizations\")\n",
    "print(train_data_cat.shape)\n",
    "print(test_data_cat.shape)\n"
   ]
  },
  {
   "cell_type": "code",
   "execution_count": 37,
   "id": "protecting-silicon",
   "metadata": {},
   "outputs": [
    {
     "data": {
      "text/plain": [
       "pandas.core.frame.DataFrame"
      ]
     },
     "execution_count": 37,
     "metadata": {},
     "output_type": "execute_result"
    }
   ],
   "source": [
    "type(train_data[categorical_feat])"
   ]
  },
  {
   "cell_type": "code",
   "execution_count": 38,
   "id": "preceding-beginning",
   "metadata": {},
   "outputs": [
    {
     "data": {
      "text/plain": [
       "array([[1., 0., 0., ..., 0., 0., 0.],\n",
       "       [1., 0., 0., ..., 0., 0., 0.],\n",
       "       [1., 0., 0., ..., 0., 0., 0.],\n",
       "       ...,\n",
       "       [1., 0., 0., ..., 0., 0., 0.],\n",
       "       [1., 0., 0., ..., 0., 0., 0.],\n",
       "       [1., 0., 0., ..., 0., 0., 0.]])"
      ]
     },
     "execution_count": 38,
     "metadata": {},
     "output_type": "execute_result"
    }
   ],
   "source": [
    "train_data_cat"
   ]
  },
  {
   "cell_type": "code",
   "execution_count": 39,
   "id": "obvious-daniel",
   "metadata": {},
   "outputs": [],
   "source": [
    "train_data_array = np.array(train_data)"
   ]
  },
  {
   "cell_type": "code",
   "execution_count": 40,
   "id": "periodic-polish",
   "metadata": {},
   "outputs": [
    {
     "data": {
      "text/plain": [
       "(76020, 371)"
      ]
     },
     "execution_count": 40,
     "metadata": {},
     "output_type": "execute_result"
    }
   ],
   "source": [
    "train_data_array.shape"
   ]
  },
  {
   "cell_type": "code",
   "execution_count": 41,
   "id": "operating-battlefield",
   "metadata": {},
   "outputs": [],
   "source": [
    "train_data_categorical_array = np.array(train_data[categorical_feat])"
   ]
  },
  {
   "cell_type": "code",
   "execution_count": 42,
   "id": "conscious-banking",
   "metadata": {},
   "outputs": [
    {
     "data": {
      "text/plain": [
       "(76020, 99)"
      ]
     },
     "execution_count": 42,
     "metadata": {},
     "output_type": "execute_result"
    }
   ],
   "source": [
    "train_data_categorical_array.shape"
   ]
  },
  {
   "cell_type": "code",
   "execution_count": 43,
   "id": "racial-joshua",
   "metadata": {},
   "outputs": [],
   "source": [
    "test_data_categorical_array = np.array(test_data[categorical_feat])"
   ]
  },
  {
   "cell_type": "code",
   "execution_count": 44,
   "id": "floral-coordinate",
   "metadata": {},
   "outputs": [
    {
     "data": {
      "text/plain": [
       "(75818, 99)"
      ]
     },
     "execution_count": 44,
     "metadata": {},
     "output_type": "execute_result"
    }
   ],
   "source": [
    "test_data_categorical_array.shape"
   ]
  },
  {
   "cell_type": "code",
   "execution_count": 45,
   "id": "intense-sunday",
   "metadata": {},
   "outputs": [
    {
     "name": "stdout",
     "output_type": "stream",
     "text": [
      "After vectorizations\n",
      "(76020, 507)\n",
      "(75818, 507)\n"
     ]
    }
   ],
   "source": [
    "import pandas as pd\n",
    "from sklearn.preprocessing import OneHotEncoder\n",
    "\n",
    "\n",
    "enc = OneHotEncoder(handle_unknown = 'ignore')\n",
    "enc.fit(train_data_categorical_array)\n",
    "\n",
    "train_data_cat_array = enc.transform(train_data_categorical_array)\n",
    "\n",
    "\n",
    "test_data_cat_array = enc.transform(test_data_categorical_array)\n",
    "\n",
    "print(\"After vectorizations\")\n",
    "print(train_data_cat_array.shape)\n",
    "print(test_data_cat_array.shape)\n"
   ]
  },
  {
   "cell_type": "code",
   "execution_count": 46,
   "id": "fossil-paradise",
   "metadata": {},
   "outputs": [
    {
     "data": {
      "text/plain": [
       "<76020x507 sparse matrix of type '<class 'numpy.float64'>'\n",
       "\twith 7525980 stored elements in Compressed Sparse Row format>"
      ]
     },
     "execution_count": 46,
     "metadata": {},
     "output_type": "execute_result"
    }
   ],
   "source": [
    "train_data_cat_array"
   ]
  },
  {
   "cell_type": "code",
   "execution_count": 47,
   "id": "russian-sponsorship",
   "metadata": {},
   "outputs": [
    {
     "name": "stdout",
     "output_type": "stream",
     "text": [
      "After vectorizations\n",
      "(76020, 210)\n",
      "(75818, 210)\n"
     ]
    }
   ],
   "source": [
    "# Reference: https://stackoverflow.com/questions/55525195/do-i-have-to-do-one-hot-encoding-separately-for-train-and-test-dataset\n",
    "import pandas as pd\n",
    "from sklearn.preprocessing import OneHotEncoder\n",
    "\n",
    "\n",
    "enc = OneHotEncoder(handle_unknown = 'ignore')\n",
    "enc.fit(train_data[caty_feat_two])\n",
    "\n",
    "train_data_cat_two = enc.transform(train_data[caty_feat_two]).toarray()\n",
    "\n",
    "\n",
    "test_data_cat_two = enc.transform(test_data[caty_feat_two]).toarray()\n",
    "\n",
    "#enc_df = pd.DataFrame(enc.fit_transform(bridge_df[['Bridge_Types_Cat']]).toarray())\n",
    "\n",
    "print(\"After vectorizations\")\n",
    "print(train_data_cat_two.shape)\n",
    "print(test_data_cat_two.shape)\n"
   ]
  },
  {
   "cell_type": "code",
   "execution_count": 48,
   "id": "surprised-hometown",
   "metadata": {},
   "outputs": [
    {
     "data": {
      "text/plain": [
       "array([[1., 0., 1., ..., 0., 1., 0.],\n",
       "       [1., 0., 1., ..., 0., 1., 0.],\n",
       "       [1., 0., 1., ..., 0., 1., 0.],\n",
       "       ...,\n",
       "       [1., 0., 1., ..., 0., 1., 0.],\n",
       "       [1., 0., 1., ..., 0., 1., 0.],\n",
       "       [1., 0., 1., ..., 0., 1., 0.]])"
      ]
     },
     "execution_count": 48,
     "metadata": {},
     "output_type": "execute_result"
    }
   ],
   "source": [
    "train_data_cat_two"
   ]
  },
  {
   "cell_type": "code",
   "execution_count": 49,
   "id": "adapted-charter",
   "metadata": {},
   "outputs": [],
   "source": [
    "train_data_cat_two_array = np.array(train_data[caty_feat_two])"
   ]
  },
  {
   "cell_type": "code",
   "execution_count": 50,
   "id": "quiet-oxford",
   "metadata": {},
   "outputs": [
    {
     "data": {
      "text/plain": [
       "(76020, 105)"
      ]
     },
     "execution_count": 50,
     "metadata": {},
     "output_type": "execute_result"
    }
   ],
   "source": [
    "train_data_cat_two_array.shape"
   ]
  },
  {
   "cell_type": "code",
   "execution_count": 51,
   "id": "comic-complex",
   "metadata": {},
   "outputs": [],
   "source": [
    "test_data_cat_two_array = np.array(test_data[caty_feat_two])"
   ]
  },
  {
   "cell_type": "code",
   "execution_count": 52,
   "id": "seventh-anchor",
   "metadata": {},
   "outputs": [
    {
     "data": {
      "text/plain": [
       "(75818, 105)"
      ]
     },
     "execution_count": 52,
     "metadata": {},
     "output_type": "execute_result"
    }
   ],
   "source": [
    "test_data_cat_two_array.shape"
   ]
  },
  {
   "cell_type": "code",
   "execution_count": 53,
   "id": "parental-relief",
   "metadata": {},
   "outputs": [
    {
     "name": "stdout",
     "output_type": "stream",
     "text": [
      "After vectorizations\n",
      "(76020, 210)\n",
      "(75818, 210)\n"
     ]
    }
   ],
   "source": [
    "import pandas as pd\n",
    "from sklearn.preprocessing import OneHotEncoder\n",
    "\n",
    "\n",
    "enc = OneHotEncoder(handle_unknown = 'ignore')\n",
    "enc.fit(train_data_cat_two_array)\n",
    "\n",
    "train_data_cat_two_arr = enc.transform(train_data_cat_two_array)\n",
    "\n",
    "\n",
    "test_data_cat_two_arr = enc.transform(test_data_cat_two_array)\n",
    "\n",
    "print(\"After vectorizations\")\n",
    "print(train_data_cat_two_arr.shape)\n",
    "print(test_data_cat_two_arr.shape)\n"
   ]
  },
  {
   "cell_type": "code",
   "execution_count": 54,
   "id": "located-weekly",
   "metadata": {},
   "outputs": [],
   "source": [
    "train_data_cat_one = np.array(train_data[caty_feat_one])"
   ]
  },
  {
   "cell_type": "code",
   "execution_count": 55,
   "id": "intense-little",
   "metadata": {},
   "outputs": [
    {
     "data": {
      "text/plain": [
       "(76020, 34)"
      ]
     },
     "execution_count": 55,
     "metadata": {},
     "output_type": "execute_result"
    }
   ],
   "source": [
    "train_data_cat_one.shape"
   ]
  },
  {
   "cell_type": "code",
   "execution_count": 56,
   "id": "juvenile-partnership",
   "metadata": {},
   "outputs": [],
   "source": [
    "test_data_cat_one = np.array(test_data[caty_feat_one])"
   ]
  },
  {
   "cell_type": "code",
   "execution_count": 57,
   "id": "southern-boring",
   "metadata": {},
   "outputs": [
    {
     "data": {
      "text/plain": [
       "(75818, 34)"
      ]
     },
     "execution_count": 57,
     "metadata": {},
     "output_type": "execute_result"
    }
   ],
   "source": [
    "test_data_cat_one.shape"
   ]
  },
  {
   "cell_type": "markdown",
   "id": "cleared-nirvana",
   "metadata": {},
   "source": [
    "STACKING ALL THE FEATURES TOGETHER"
   ]
  },
  {
   "cell_type": "code",
   "execution_count": 58,
   "id": "metric-tracy",
   "metadata": {},
   "outputs": [],
   "source": [
    "from scipy.sparse import hstack #stack sparse matrices horizontally"
   ]
  },
  {
   "cell_type": "code",
   "execution_count": 59,
   "id": "narrative-warning",
   "metadata": {},
   "outputs": [],
   "source": [
    "Xi_train=np.hstack([train_data_cat, train_data_cat_two, train_data_cat_one, train_data_num])"
   ]
  },
  {
   "cell_type": "code",
   "execution_count": 60,
   "id": "enormous-lesson",
   "metadata": {},
   "outputs": [
    {
     "data": {
      "text/plain": [
       "(76020, 882)"
      ]
     },
     "execution_count": 60,
     "metadata": {},
     "output_type": "execute_result"
    }
   ],
   "source": [
    "Xi_train.shape"
   ]
  },
  {
   "cell_type": "code",
   "execution_count": 61,
   "id": "exposed-evans",
   "metadata": {},
   "outputs": [],
   "source": [
    "Xi_test=np.hstack([test_data_cat, test_data_cat_two, test_data_cat_one, test_data_num])"
   ]
  },
  {
   "cell_type": "code",
   "execution_count": 62,
   "id": "urban-bailey",
   "metadata": {},
   "outputs": [
    {
     "data": {
      "text/plain": [
       "(75818, 882)"
      ]
     },
     "execution_count": 62,
     "metadata": {},
     "output_type": "execute_result"
    }
   ],
   "source": [
    "Xi_test.shape"
   ]
  },
  {
   "cell_type": "code",
   "execution_count": 63,
   "id": "ethical-zealand",
   "metadata": {},
   "outputs": [],
   "source": [
    "from scipy.sparse import hstack\n",
    "import scipy.sparse as sp\n",
    "#Reference: https://www.programcreek.com/python/example/104973/scipy.sparse.hstack"
   ]
  },
  {
   "cell_type": "code",
   "execution_count": 64,
   "id": "digital-daughter",
   "metadata": {},
   "outputs": [],
   "source": [
    "from sklearn.feature_extraction.text import CountVectorizer"
   ]
  },
  {
   "cell_type": "markdown",
   "id": "perfect-chassis",
   "metadata": {},
   "source": [
    "# LOGISTIC REGRESSION"
   ]
  },
  {
   "cell_type": "code",
   "execution_count": 70,
   "id": "ecological-thesis",
   "metadata": {},
   "outputs": [],
   "source": [
    "import sklearn\n",
    "from sklearn import linear_model"
   ]
  },
  {
   "cell_type": "code",
   "execution_count": 71,
   "id": "annoying-disclaimer",
   "metadata": {},
   "outputs": [],
   "source": [
    "\n",
    "mudel = linear_model.LogisticRegression(class_weight='balanced')\n",
    "params = {'penalty':['l2','l1'], 'C':[10.**i for i in np.arange(-3,3,1)], \n",
    "          'fit_intercept':[True,False],}"
   ]
  },
  {
   "cell_type": "code",
   "execution_count": 84,
   "id": "controlled-mathematics",
   "metadata": {},
   "outputs": [],
   "source": [
    "\n",
    "def best_params(model,params,cv=4,n_jobs=-1,train=Xi_train):\n",
    "  \n",
    "    random_cv = RandomizedSearchCV(model,param_distributions=params,scoring='roc_auc',n_jobs=n_jobs,cv=cv,verbose=2)\n",
    "    random_cv.fit(Xi_train,y_train)\n",
    "    print(\"The best auc score is:\",random_cv.best_score_)\n",
    "    print(\"The best params are::\",random_cv.best_params_)\n",
    "    return random_cv.best_estimator_"
   ]
  },
  {
   "cell_type": "code",
   "execution_count": 86,
   "id": "correct-chess",
   "metadata": {},
   "outputs": [],
   "source": [
    "from sklearn.linear_model import LogisticRegression\n",
    "from sklearn.model_selection import RandomizedSearchCV\n",
    "from sklearn.model_selection import train_test_split\n",
    "from scipy.stats import uniform"
   ]
  },
  {
   "cell_type": "code",
   "execution_count": 88,
   "id": "excessive-arrangement",
   "metadata": {},
   "outputs": [
    {
     "name": "stdout",
     "output_type": "stream",
     "text": [
      "Fitting 2 folds for each of 10 candidates, totalling 20 fits\n",
      "The best auc score is: 0.7884318017964986\n",
      "The best params are:: {'penalty': 'l2', 'fit_intercept': True, 'C': 1.0}\n"
     ]
    },
    {
     "data": {
      "text/plain": [
       "LogisticRegression(class_weight='balanced')"
      ]
     },
     "execution_count": 88,
     "metadata": {},
     "output_type": "execute_result"
    }
   ],
   "source": [
    "best_params(mudel,params,cv=2,train=Xi_train)"
   ]
  },
  {
   "cell_type": "code",
   "execution_count": 89,
   "id": "departmental-temperature",
   "metadata": {},
   "outputs": [],
   "source": [
    "muudel = linear_model.LogisticRegression(C=1, class_weight='balanced', dual=False,\n",
    "                   fit_intercept=True, intercept_scaling=1, l1_ratio=None,\n",
    "                   max_iter=100, multi_class='auto', n_jobs=None, penalty='l2',\n",
    "                   solver='lbfgs', tol=0.0001, verbose=0,\n",
    "                   warm_start=False)\n",
    "\n"
   ]
  },
  {
   "cell_type": "code",
   "execution_count": 90,
   "id": "massive-memphis",
   "metadata": {},
   "outputs": [
    {
     "data": {
      "text/plain": [
       "LogisticRegression(C=1, class_weight='balanced')"
      ]
     },
     "execution_count": 90,
     "metadata": {},
     "output_type": "execute_result"
    }
   ],
   "source": [
    "muudel.fit(Xi_train,y_train)"
   ]
  },
  {
   "cell_type": "code",
   "execution_count": 127,
   "id": "controlled-footage",
   "metadata": {},
   "outputs": [],
   "source": [
    "from sklearn.metrics import roc_curve, auc"
   ]
  },
  {
   "cell_type": "code",
   "execution_count": 93,
   "id": "israeli-guide",
   "metadata": {},
   "outputs": [
    {
     "data": {
      "image/png": "[encoded data removed]",
      "text/plain": [
       "<Figure size 432x288 with 1 Axes>"
      ]
     },
     "metadata": {},
     "output_type": "display_data"
    }
   ],
   "source": [
    "y_train_pred = muudel.predict_proba(Xi_train) [:,1]\n",
    "y_test_pred = muudel.predict_proba(Xi_test) [:,1]\n",
    "train_fpr, train_tpr, tr_thresholds = roc_curve(y_train, y_train_pred)\n",
    "plt.plot(train_fpr, train_tpr, label=\"train AUC =\"+str(auc(train_fpr, train_tpr)))\n",
    "sns.lineplot(train_fpr, train_tpr)\n",
    "x=np.arange(0,1.1,0.1) #auc=0.5 line \n",
    "sns.lineplot(x,x,label=\"AUC=0.5\")\n",
    "plt.legend()\n",
    "plt.xlabel(\"False Positive Rate\")\n",
    "plt.ylabel(\"True Positive Rate\")\n",
    "plt.title(\"TPR vs FPR\")\n",
    "plt.grid(True)\n",
    "plt.show()"
   ]
  },
  {
   "cell_type": "code",
   "execution_count": 101,
   "id": "stunning-bumper",
   "metadata": {},
   "outputs": [
    {
     "name": "stdout",
     "output_type": "stream",
     "text": [
      "0.5638735064760584\n",
      "The log loss after applying Logistic Regression is found to be: 0.5638735064760584\n"
     ]
    }
   ],
   "source": [
    "log_loss = metrics.log_loss(y_train,y_train_pred) #getting logloss\n",
    "print(log_loss)\n",
    "print(\"The log loss after applying Logistic Regression is found to be:\",(log_loss))\n",
    "    "
   ]
  },
  {
   "cell_type": "markdown",
   "id": "peaceful-agriculture",
   "metadata": {},
   "source": [
    "# DECISION TREES"
   ]
  },
  {
   "cell_type": "code",
   "execution_count": 103,
   "id": "ancient-dialogue",
   "metadata": {},
   "outputs": [],
   "source": [
    "model_dec = tree.DecisionTreeClassifier(class_weight='balanced')\n",
    "params = { 'max_depth':[10,100,500,1000], \n",
    "         'min_samples_split':[2,5,10,100,500], \n",
    "          'min_samples_leaf':[1,3,5,7,10],\n",
    "          'max_leaf_nodes':[100,500,1000,5000] }"
   ]
  },
  {
   "cell_type": "code",
   "execution_count": 104,
   "id": "partial-movie",
   "metadata": {},
   "outputs": [
    {
     "name": "stdout",
     "output_type": "stream",
     "text": [
      "Fitting 2 folds for each of 10 candidates, totalling 20 fits\n",
      "The best auc score is: 0.7917399598987518\n",
      "The best params are:: {'min_samples_split': 500, 'min_samples_leaf': 3, 'max_leaf_nodes': 100, 'max_depth': 100}\n"
     ]
    },
    {
     "data": {
      "text/plain": [
       "DecisionTreeClassifier(class_weight='balanced', max_depth=100,\n",
       "                       max_leaf_nodes=100, min_samples_leaf=3,\n",
       "                       min_samples_split=500)"
      ]
     },
     "execution_count": 104,
     "metadata": {},
     "output_type": "execute_result"
    }
   ],
   "source": [
    "best_params(model_dec,params,cv=2,n_jobs=-1,train=Xi_train)\n",
    "  "
   ]
  },
  {
   "cell_type": "code",
   "execution_count": 106,
   "id": "copyrighted-marker",
   "metadata": {},
   "outputs": [
    {
     "data": {
      "text/plain": [
       "DecisionTreeClassifier(class_weight='balanced', max_depth=100,\n",
       "                       max_leaf_nodes=100, min_samples_leaf=3,\n",
       "                       min_samples_split=500)"
      ]
     },
     "execution_count": 106,
     "metadata": {},
     "output_type": "execute_result"
    }
   ],
   "source": [
    "mudel_decy = tree.DecisionTreeClassifier(ccp_alpha=0.0, class_weight='balanced', criterion='gini',\n",
    "                       max_depth=100, max_features=None, max_leaf_nodes=100,\n",
    "                       min_impurity_decrease=0.0, min_impurity_split=None,\n",
    "                       min_samples_leaf=3, min_samples_split=500,\n",
    "                       min_weight_fraction_leaf=0.0, splitter='best')\n",
    "\n",
    "mudel_decy.fit(Xi_train,y_train)"
   ]
  },
  {
   "cell_type": "code",
   "execution_count": 107,
   "id": "statewide-whole",
   "metadata": {},
   "outputs": [
    {
     "data": {
      "text/plain": [
       "CalibratedClassifierCV(base_estimator=DecisionTreeClassifier(class_weight='balanced',\n",
       "                                                             max_depth=100,\n",
       "                                                             max_leaf_nodes=100,\n",
       "                                                             min_samples_leaf=3,\n",
       "                                                             min_samples_split=500),\n",
       "                       cv='prefit')"
      ]
     },
     "execution_count": 107,
     "metadata": {},
     "output_type": "execute_result"
    }
   ],
   "source": [
    "fi_model = calibration.CalibratedClassifierCV(mudel_decy,cv='prefit')\n",
    "fi_model.fit(Xi_train,y_train)"
   ]
  },
  {
   "cell_type": "code",
   "execution_count": 108,
   "id": "fluid-restriction",
   "metadata": {},
   "outputs": [
    {
     "data": {
      "image/png": "[encoded data removed]",
      "text/plain": [
       "<Figure size 432x288 with 1 Axes>"
      ]
     },
     "metadata": {},
     "output_type": "display_data"
    }
   ],
   "source": [
    "y_tr_pred = fi_model.predict_proba(Xi_train) [:,1]\n",
    "y_te_pred = muudel.predict_proba(Xi_test) [:,1]\n",
    "tr_fpr, tr_tpr, tr_thresh = roc_curve(y_train, y_tr_pred)\n",
    "plt.plot(tr_fpr, tr_tpr, label=\"train AUC =\"+str(auc(tr_fpr, tr_tpr)))\n",
    "sns.lineplot(tr_fpr, tr_tpr)\n",
    "x=np.arange(0,1.1,0.1) #auc=0.5 line \n",
    "sns.lineplot(x,x,label=\"AUC=0.5\")\n",
    "plt.legend()\n",
    "plt.xlabel(\"False Positive Rate\")\n",
    "plt.ylabel(\"True Positive Rate\")\n",
    "plt.title(\"TPR vs FPR\")\n",
    "plt.grid(True)\n",
    "plt.show()"
   ]
  },
  {
   "cell_type": "code",
   "execution_count": 109,
   "id": "developmental-england",
   "metadata": {},
   "outputs": [
    {
     "name": "stdout",
     "output_type": "stream",
     "text": [
      "0.1305651120145573\n",
      "The log loss after applying Decision Tree Classifier is found to be: 0.1305651120145573\n"
     ]
    }
   ],
   "source": [
    "log_loss = metrics.log_loss(y_train,y_tr_pred) #getting logloss\n",
    "print(log_loss)\n",
    "print(\"The log loss after applying Decision Tree Classifier is found to be:\",(log_loss))\n",
    "    "
   ]
  },
  {
   "cell_type": "markdown",
   "id": "chicken-viking",
   "metadata": {},
   "source": [
    "# RANDOM FOREST"
   ]
  },
  {
   "cell_type": "code",
   "execution_count": 110,
   "id": "experienced-inspiration",
   "metadata": {},
   "outputs": [],
   "source": [
    "model_ran = ensemble.RandomForestClassifier(class_weight='balanced')\n",
    "params = { 'n_estimators':[1000,2000],\n",
    "          'max_depth':[500,1000], \n",
    "         'min_samples_split':[100,500],\n",
    "          'min_samples_leaf':[3,5],\n",
    "          'max_leaf_nodes':[100,250] \n",
    "          }"
   ]
  },
  {
   "cell_type": "code",
   "execution_count": 111,
   "id": "outdoor-freeware",
   "metadata": {},
   "outputs": [
    {
     "name": "stdout",
     "output_type": "stream",
     "text": [
      "Fitting 2 folds for each of 10 candidates, totalling 20 fits\n",
      "The best auc score is: 0.8141706895529269\n",
      "The best params are:: {'n_estimators': 2000, 'min_samples_split': 500, 'min_samples_leaf': 3, 'max_leaf_nodes': 250, 'max_depth': 1000}\n"
     ]
    },
    {
     "data": {
      "text/plain": [
       "RandomForestClassifier(class_weight='balanced', max_depth=1000,\n",
       "                       max_leaf_nodes=250, min_samples_leaf=3,\n",
       "                       min_samples_split=500, n_estimators=2000)"
      ]
     },
     "execution_count": 111,
     "metadata": {},
     "output_type": "execute_result"
    }
   ],
   "source": [
    "best_params(model_ran,params,cv=2,n_jobs=-1,train=Xi_train)\n",
    "  "
   ]
  },
  {
   "cell_type": "code",
   "execution_count": 113,
   "id": "modified-cooperative",
   "metadata": {},
   "outputs": [
    {
     "data": {
      "text/plain": [
       "RandomForestClassifier(class_weight='balanced', max_depth=1000,\n",
       "                       max_leaf_nodes=250, min_samples_leaf=3,\n",
       "                       min_samples_split=500, n_estimators=2000, n_jobs=-1)"
      ]
     },
     "execution_count": 113,
     "metadata": {},
     "output_type": "execute_result"
    }
   ],
   "source": [
    "mudel_ran = ensemble.RandomForestClassifier(bootstrap=True, ccp_alpha=0.0, class_weight='balanced',\n",
    "                       criterion='gini', max_depth=1000, max_features='auto',\n",
    "                       max_leaf_nodes=250, max_samples=None,\n",
    "                       min_impurity_decrease=0.0, min_impurity_split=None,\n",
    "                       min_samples_leaf=3, min_samples_split=500,\n",
    "                       min_weight_fraction_leaf=0.0, n_estimators=2000,\n",
    "                       n_jobs=-1, oob_score=False,\n",
    "                       verbose=0, warm_start=False)\n",
    "mudel_ran.fit(Xi_train,y_train)"
   ]
  },
  {
   "cell_type": "code",
   "execution_count": 114,
   "id": "professional-ocean",
   "metadata": {},
   "outputs": [
    {
     "data": {
      "text/plain": [
       "CalibratedClassifierCV(base_estimator=RandomForestClassifier(class_weight='balanced',\n",
       "                                                             max_depth=1000,\n",
       "                                                             max_leaf_nodes=250,\n",
       "                                                             min_samples_leaf=3,\n",
       "                                                             min_samples_split=500,\n",
       "                                                             n_estimators=2000,\n",
       "                                                             n_jobs=-1),\n",
       "                       cv='prefit')"
      ]
     },
     "execution_count": 114,
     "metadata": {},
     "output_type": "execute_result"
    }
   ],
   "source": [
    "ran_model = calibration.CalibratedClassifierCV(mudel_ran,cv='prefit')\n",
    "ran_model.fit(Xi_train,y_train)"
   ]
  },
  {
   "cell_type": "code",
   "execution_count": 115,
   "id": "embedded-visiting",
   "metadata": {},
   "outputs": [
    {
     "data": {
      "image/png": "[encoded data removed]",
      "text/plain": [
       "<Figure size 432x288 with 1 Axes>"
      ]
     },
     "metadata": {},
     "output_type": "display_data"
    }
   ],
   "source": [
    "y_tr_predi = ran_model.predict_proba(Xi_train) [:,1]\n",
    "y_te_predi = ran_model.predict_proba(Xi_test) [:,1]\n",
    "train_fpr_s, train_tpr_s, train_threshy = roc_curve(y_train, y_tr_predi)\n",
    "plt.plot(train_fpr_s, train_tpr_s, label=\"train AUC =\"+str(auc(train_fpr_s, train_tpr_s)))\n",
    "sns.lineplot(train_fpr_s, train_tpr_s)\n",
    "x=np.arange(0,1.1,0.1) #auc=0.5 line \n",
    "sns.lineplot(x,x,label=\"AUC=0.5\")\n",
    "plt.legend()\n",
    "plt.xlabel(\"False Positive Rate\")\n",
    "plt.ylabel(\"True Positive Rate\")\n",
    "plt.title(\"TPR vs FPR\")\n",
    "plt.grid(True)\n",
    "plt.show()"
   ]
  },
  {
   "cell_type": "code",
   "execution_count": 116,
   "id": "earned-infection",
   "metadata": {},
   "outputs": [
    {
     "name": "stdout",
     "output_type": "stream",
     "text": [
      "0.13140119271333225\n",
      "The log loss after applying Random-Forest is found to be: 0.13140119271333225\n"
     ]
    }
   ],
   "source": [
    "log_loss = metrics.log_loss(y_train,y_tr_predi) #getting logloss\n",
    "print(log_loss)\n",
    "print(\"The log loss after applying Random-Forest is found to be:\",(log_loss))\n",
    "    "
   ]
  },
  {
   "cell_type": "code",
   "execution_count": null,
   "id": "processed-scene",
   "metadata": {},
   "outputs": [],
   "source": [
    "# https://stackoverflow.com/questions/44101458/random-forest-feature-importance-chart-using-python"
   ]
  },
  {
   "cell_type": "markdown",
   "id": "adapted-yield",
   "metadata": {},
   "source": [
    "# LIGHT GBM CLASSIFIER"
   ]
  },
  {
   "cell_type": "code",
   "execution_count": 118,
   "id": "brazilian-concord",
   "metadata": {},
   "outputs": [],
   "source": [
    "import lightgbm as lgb"
   ]
  },
  {
   "cell_type": "code",
   "execution_count": 122,
   "id": "genetic-arrival",
   "metadata": {},
   "outputs": [
    {
     "name": "stdout",
     "output_type": "stream",
     "text": [
      "(60816, 882)\n",
      "(15204, 882)\n",
      "(60816,)\n",
      "(15204,)\n"
     ]
    }
   ],
   "source": [
    "X_train,X_val,y_train,y_val = model_selection.train_test_split(Xi_train,y_train,stratify=y_train,test_size=0.20)\n",
    "print(X_train.shape)\n",
    "print(X_val.shape)\n",
    "print(y_train.shape)\n",
    "print(y_val.shape)"
   ]
  },
  {
   "cell_type": "code",
   "execution_count": 119,
   "id": "qualified-sponsorship",
   "metadata": {},
   "outputs": [],
   "source": [
    "model_light = lgb.LGBMClassifier(n_jobs=-1,nthread=-1,scale_pos_weight=1,learning_rate=0.02,colsample_bytree = 0.5,\n",
    "                      subsample = 0.8, objective='binary', n_estimators=375,reg_alpha = 0.4,\n",
    "                      max_depth=7, random_state=42)"
   ]
  },
  {
   "cell_type": "code",
   "execution_count": 124,
   "id": "crude-charge",
   "metadata": {},
   "outputs": [],
   "source": [
    "evaluation_metrics = ['auc','error']\n"
   ]
  },
  {
   "cell_type": "code",
   "execution_count": 125,
   "id": "attractive-regression",
   "metadata": {},
   "outputs": [
    {
     "name": "stdout",
     "output_type": "stream",
     "text": [
      "[LightGBM] [Warning] num_threads is set with n_jobs=-1, nthread=-1 will be ignored. Current value: num_threads=-1\n",
      "[1]\tvalid_0's auc: 0.746654\tvalid_0's binary_error: 0.0395948\tvalid_0's binary_logloss: 0.165773\n",
      "[2]\tvalid_0's auc: 0.757075\tvalid_0's binary_error: 0.0395948\tvalid_0's binary_logloss: 0.165043\n",
      "[3]\tvalid_0's auc: 0.760064\tvalid_0's binary_error: 0.0395948\tvalid_0's binary_logloss: 0.16435\n",
      "[4]\tvalid_0's auc: 0.761385\tvalid_0's binary_error: 0.0395948\tvalid_0's binary_logloss: 0.163643\n",
      "[5]\tvalid_0's auc: 0.798646\tvalid_0's binary_error: 0.0395948\tvalid_0's binary_logloss: 0.162192\n",
      "[6]\tvalid_0's auc: 0.806739\tvalid_0's binary_error: 0.0395948\tvalid_0's binary_logloss: 0.160987\n",
      "[7]\tvalid_0's auc: 0.814168\tvalid_0's binary_error: 0.0395948\tvalid_0's binary_logloss: 0.159813\n",
      "[8]\tvalid_0's auc: 0.813085\tvalid_0's binary_error: 0.0395948\tvalid_0's binary_logloss: 0.159149\n",
      "[9]\tvalid_0's auc: 0.813058\tvalid_0's binary_error: 0.0395948\tvalid_0's binary_logloss: 0.158525\n",
      "[10]\tvalid_0's auc: 0.815881\tvalid_0's binary_error: 0.0395948\tvalid_0's binary_logloss: 0.157549\n",
      "[11]\tvalid_0's auc: 0.815395\tvalid_0's binary_error: 0.0395948\tvalid_0's binary_logloss: 0.157012\n",
      "[12]\tvalid_0's auc: 0.818036\tvalid_0's binary_error: 0.0395948\tvalid_0's binary_logloss: 0.156104\n",
      "[13]\tvalid_0's auc: 0.820142\tvalid_0's binary_error: 0.0395948\tvalid_0's binary_logloss: 0.155186\n",
      "[14]\tvalid_0's auc: 0.819544\tvalid_0's binary_error: 0.0395948\tvalid_0's binary_logloss: 0.154789\n",
      "[15]\tvalid_0's auc: 0.822143\tvalid_0's binary_error: 0.0395948\tvalid_0's binary_logloss: 0.153994\n",
      "[16]\tvalid_0's auc: 0.821289\tvalid_0's binary_error: 0.0395948\tvalid_0's binary_logloss: 0.153611\n",
      "[17]\tvalid_0's auc: 0.822707\tvalid_0's binary_error: 0.0395948\tvalid_0's binary_logloss: 0.152837\n",
      "[18]\tvalid_0's auc: 0.824271\tvalid_0's binary_error: 0.0395948\tvalid_0's binary_logloss: 0.152131\n",
      "[19]\tvalid_0's auc: 0.825098\tvalid_0's binary_error: 0.0395948\tvalid_0's binary_logloss: 0.151461\n",
      "[20]\tvalid_0's auc: 0.825473\tvalid_0's binary_error: 0.0395948\tvalid_0's binary_logloss: 0.150826\n",
      "[21]\tvalid_0's auc: 0.82526\tvalid_0's binary_error: 0.0395948\tvalid_0's binary_logloss: 0.150466\n",
      "[22]\tvalid_0's auc: 0.826526\tvalid_0's binary_error: 0.0395948\tvalid_0's binary_logloss: 0.14991\n",
      "[23]\tvalid_0's auc: 0.825944\tvalid_0's binary_error: 0.0395948\tvalid_0's binary_logloss: 0.149586\n",
      "[24]\tvalid_0's auc: 0.826825\tvalid_0's binary_error: 0.0395948\tvalid_0's binary_logloss: 0.149053\n",
      "[25]\tvalid_0's auc: 0.826348\tvalid_0's binary_error: 0.0395948\tvalid_0's binary_logloss: 0.148789\n",
      "[26]\tvalid_0's auc: 0.827124\tvalid_0's binary_error: 0.0395948\tvalid_0's binary_logloss: 0.148274\n",
      "[27]\tvalid_0's auc: 0.827086\tvalid_0's binary_error: 0.0395948\tvalid_0's binary_logloss: 0.147983\n",
      "[28]\tvalid_0's auc: 0.827078\tvalid_0's binary_error: 0.0395948\tvalid_0's binary_logloss: 0.147671\n",
      "[29]\tvalid_0's auc: 0.826476\tvalid_0's binary_error: 0.0395948\tvalid_0's binary_logloss: 0.147455\n",
      "[30]\tvalid_0's auc: 0.826298\tvalid_0's binary_error: 0.0395948\tvalid_0's binary_logloss: 0.147188\n",
      "[31]\tvalid_0's auc: 0.826175\tvalid_0's binary_error: 0.0395948\tvalid_0's binary_logloss: 0.146936\n",
      "[32]\tvalid_0's auc: 0.826093\tvalid_0's binary_error: 0.0395948\tvalid_0's binary_logloss: 0.146709\n",
      "[33]\tvalid_0's auc: 0.826543\tvalid_0's binary_error: 0.0395948\tvalid_0's binary_logloss: 0.146289\n",
      "[34]\tvalid_0's auc: 0.826395\tvalid_0's binary_error: 0.0395948\tvalid_0's binary_logloss: 0.146122\n",
      "[35]\tvalid_0's auc: 0.826872\tvalid_0's binary_error: 0.0395948\tvalid_0's binary_logloss: 0.145735\n",
      "[36]\tvalid_0's auc: 0.827234\tvalid_0's binary_error: 0.0395948\tvalid_0's binary_logloss: 0.14535\n",
      "[37]\tvalid_0's auc: 0.828212\tvalid_0's binary_error: 0.0395948\tvalid_0's binary_logloss: 0.144971\n",
      "[38]\tvalid_0's auc: 0.8276\tvalid_0's binary_error: 0.0395948\tvalid_0's binary_logloss: 0.144808\n",
      "[39]\tvalid_0's auc: 0.828611\tvalid_0's binary_error: 0.0395948\tvalid_0's binary_logloss: 0.144454\n",
      "[40]\tvalid_0's auc: 0.8291\tvalid_0's binary_error: 0.0395948\tvalid_0's binary_logloss: 0.144098\n",
      "[41]\tvalid_0's auc: 0.829101\tvalid_0's binary_error: 0.0395948\tvalid_0's binary_logloss: 0.143899\n",
      "[42]\tvalid_0's auc: 0.829754\tvalid_0's binary_error: 0.0395948\tvalid_0's binary_logloss: 0.143585\n",
      "[43]\tvalid_0's auc: 0.830225\tvalid_0's binary_error: 0.0395948\tvalid_0's binary_logloss: 0.143278\n",
      "[44]\tvalid_0's auc: 0.829869\tvalid_0's binary_error: 0.0395948\tvalid_0's binary_logloss: 0.143145\n",
      "[45]\tvalid_0's auc: 0.830159\tvalid_0's binary_error: 0.0395948\tvalid_0's binary_logloss: 0.142858\n",
      "[46]\tvalid_0's auc: 0.830134\tvalid_0's binary_error: 0.0395948\tvalid_0's binary_logloss: 0.142706\n",
      "[47]\tvalid_0's auc: 0.830583\tvalid_0's binary_error: 0.0395948\tvalid_0's binary_logloss: 0.14241\n",
      "[48]\tvalid_0's auc: 0.830894\tvalid_0's binary_error: 0.0395948\tvalid_0's binary_logloss: 0.142163\n",
      "[49]\tvalid_0's auc: 0.830587\tvalid_0's binary_error: 0.0395948\tvalid_0's binary_logloss: 0.142038\n",
      "[50]\tvalid_0's auc: 0.830545\tvalid_0's binary_error: 0.0395948\tvalid_0's binary_logloss: 0.141917\n",
      "[51]\tvalid_0's auc: 0.830177\tvalid_0's binary_error: 0.0395948\tvalid_0's binary_logloss: 0.141814\n",
      "[52]\tvalid_0's auc: 0.830558\tvalid_0's binary_error: 0.0395948\tvalid_0's binary_logloss: 0.141576\n",
      "[53]\tvalid_0's auc: 0.830808\tvalid_0's binary_error: 0.0395948\tvalid_0's binary_logloss: 0.14133\n",
      "[54]\tvalid_0's auc: 0.831134\tvalid_0's binary_error: 0.0395948\tvalid_0's binary_logloss: 0.141104\n",
      "[55]\tvalid_0's auc: 0.83132\tvalid_0's binary_error: 0.0395948\tvalid_0's binary_logloss: 0.140907\n",
      "[56]\tvalid_0's auc: 0.831642\tvalid_0's binary_error: 0.0395948\tvalid_0's binary_logloss: 0.140687\n",
      "[57]\tvalid_0's auc: 0.83177\tvalid_0's binary_error: 0.0395948\tvalid_0's binary_logloss: 0.14057\n",
      "[58]\tvalid_0's auc: 0.831629\tvalid_0's binary_error: 0.0395948\tvalid_0's binary_logloss: 0.140454\n",
      "[59]\tvalid_0's auc: 0.831607\tvalid_0's binary_error: 0.0395948\tvalid_0's binary_logloss: 0.140366\n",
      "[60]\tvalid_0's auc: 0.831784\tvalid_0's binary_error: 0.0395948\tvalid_0's binary_logloss: 0.140289\n",
      "[61]\tvalid_0's auc: 0.831747\tvalid_0's binary_error: 0.0395948\tvalid_0's binary_logloss: 0.140213\n",
      "[62]\tvalid_0's auc: 0.832022\tvalid_0's binary_error: 0.0395948\tvalid_0's binary_logloss: 0.140028\n",
      "[63]\tvalid_0's auc: 0.831993\tvalid_0's binary_error: 0.0395948\tvalid_0's binary_logloss: 0.139947\n",
      "[64]\tvalid_0's auc: 0.832212\tvalid_0's binary_error: 0.0395948\tvalid_0's binary_logloss: 0.139839\n",
      "[65]\tvalid_0's auc: 0.832433\tvalid_0's binary_error: 0.0395948\tvalid_0's binary_logloss: 0.139653\n",
      "[66]\tvalid_0's auc: 0.832528\tvalid_0's binary_error: 0.0395948\tvalid_0's binary_logloss: 0.139479\n",
      "[67]\tvalid_0's auc: 0.832604\tvalid_0's binary_error: 0.0395948\tvalid_0's binary_logloss: 0.139393\n",
      "[68]\tvalid_0's auc: 0.832482\tvalid_0's binary_error: 0.0395948\tvalid_0's binary_logloss: 0.139336\n",
      "[69]\tvalid_0's auc: 0.832487\tvalid_0's binary_error: 0.0395948\tvalid_0's binary_logloss: 0.139278\n",
      "[70]\tvalid_0's auc: 0.832737\tvalid_0's binary_error: 0.0395948\tvalid_0's binary_logloss: 0.139114\n",
      "[71]\tvalid_0's auc: 0.83325\tvalid_0's binary_error: 0.0395948\tvalid_0's binary_logloss: 0.138935\n",
      "[72]\tvalid_0's auc: 0.833554\tvalid_0's binary_error: 0.0395948\tvalid_0's binary_logloss: 0.138771\n",
      "[73]\tvalid_0's auc: 0.833777\tvalid_0's binary_error: 0.0395948\tvalid_0's binary_logloss: 0.138627\n",
      "[74]\tvalid_0's auc: 0.833699\tvalid_0's binary_error: 0.0395948\tvalid_0's binary_logloss: 0.138561\n",
      "[75]\tvalid_0's auc: 0.833705\tvalid_0's binary_error: 0.0395948\tvalid_0's binary_logloss: 0.138482\n",
      "[76]\tvalid_0's auc: 0.833916\tvalid_0's binary_error: 0.0395948\tvalid_0's binary_logloss: 0.138351\n",
      "[77]\tvalid_0's auc: 0.833788\tvalid_0's binary_error: 0.0395948\tvalid_0's binary_logloss: 0.138297\n",
      "[78]\tvalid_0's auc: 0.833818\tvalid_0's binary_error: 0.0395948\tvalid_0's binary_logloss: 0.138247\n",
      "[79]\tvalid_0's auc: 0.833666\tvalid_0's binary_error: 0.0395948\tvalid_0's binary_logloss: 0.138196\n",
      "[80]\tvalid_0's auc: 0.83362\tvalid_0's binary_error: 0.0395948\tvalid_0's binary_logloss: 0.138137\n",
      "[81]\tvalid_0's auc: 0.833806\tvalid_0's binary_error: 0.0395948\tvalid_0's binary_logloss: 0.138016\n",
      "[82]\tvalid_0's auc: 0.834073\tvalid_0's binary_error: 0.0395948\tvalid_0's binary_logloss: 0.137888\n",
      "[83]\tvalid_0's auc: 0.834373\tvalid_0's binary_error: 0.0395948\tvalid_0's binary_logloss: 0.137764\n",
      "[84]\tvalid_0's auc: 0.834359\tvalid_0's binary_error: 0.0395948\tvalid_0's binary_logloss: 0.137702\n",
      "[85]\tvalid_0's auc: 0.834669\tvalid_0's binary_error: 0.0395948\tvalid_0's binary_logloss: 0.137576\n",
      "[86]\tvalid_0's auc: 0.834961\tvalid_0's binary_error: 0.0395948\tvalid_0's binary_logloss: 0.137458\n",
      "[87]\tvalid_0's auc: 0.835445\tvalid_0's binary_error: 0.0395291\tvalid_0's binary_logloss: 0.137335\n",
      "[88]\tvalid_0's auc: 0.835661\tvalid_0's binary_error: 0.0395291\tvalid_0's binary_logloss: 0.137241\n",
      "[89]\tvalid_0's auc: 0.835886\tvalid_0's binary_error: 0.0395291\tvalid_0's binary_logloss: 0.137141\n",
      "[90]\tvalid_0's auc: 0.836077\tvalid_0's binary_error: 0.0395291\tvalid_0's binary_logloss: 0.13706\n",
      "[91]\tvalid_0's auc: 0.836129\tvalid_0's binary_error: 0.0395291\tvalid_0's binary_logloss: 0.137006\n",
      "[92]\tvalid_0's auc: 0.836282\tvalid_0's binary_error: 0.0395291\tvalid_0's binary_logloss: 0.136906\n",
      "[93]\tvalid_0's auc: 0.836324\tvalid_0's binary_error: 0.0395291\tvalid_0's binary_logloss: 0.13685\n",
      "[94]\tvalid_0's auc: 0.836543\tvalid_0's binary_error: 0.0395291\tvalid_0's binary_logloss: 0.136761\n",
      "[95]\tvalid_0's auc: 0.836766\tvalid_0's binary_error: 0.0395291\tvalid_0's binary_logloss: 0.136667\n",
      "[96]\tvalid_0's auc: 0.837023\tvalid_0's binary_error: 0.0395291\tvalid_0's binary_logloss: 0.136576\n",
      "[97]\tvalid_0's auc: 0.837109\tvalid_0's binary_error: 0.0395291\tvalid_0's binary_logloss: 0.136535\n",
      "[98]\tvalid_0's auc: 0.837025\tvalid_0's binary_error: 0.0395291\tvalid_0's binary_logloss: 0.136504\n",
      "[99]\tvalid_0's auc: 0.837034\tvalid_0's binary_error: 0.0395291\tvalid_0's binary_logloss: 0.136446\n",
      "[100]\tvalid_0's auc: 0.836913\tvalid_0's binary_error: 0.0395291\tvalid_0's binary_logloss: 0.13642\n",
      "[101]\tvalid_0's auc: 0.837067\tvalid_0's binary_error: 0.0395291\tvalid_0's binary_logloss: 0.136333\n",
      "[102]\tvalid_0's auc: 0.836956\tvalid_0's binary_error: 0.0395291\tvalid_0's binary_logloss: 0.13631\n",
      "[103]\tvalid_0's auc: 0.836839\tvalid_0's binary_error: 0.0395291\tvalid_0's binary_logloss: 0.136298\n",
      "[104]\tvalid_0's auc: 0.837004\tvalid_0's binary_error: 0.0395291\tvalid_0's binary_logloss: 0.136215\n",
      "[105]\tvalid_0's auc: 0.83686\tvalid_0's binary_error: 0.0395291\tvalid_0's binary_logloss: 0.136203\n",
      "[106]\tvalid_0's auc: 0.836813\tvalid_0's binary_error: 0.0395291\tvalid_0's binary_logloss: 0.136177\n",
      "[107]\tvalid_0's auc: 0.836933\tvalid_0's binary_error: 0.0395291\tvalid_0's binary_logloss: 0.136103\n",
      "[108]\tvalid_0's auc: 0.836902\tvalid_0's binary_error: 0.0395291\tvalid_0's binary_logloss: 0.136071\n",
      "[109]\tvalid_0's auc: 0.836907\tvalid_0's binary_error: 0.0395291\tvalid_0's binary_logloss: 0.13604\n",
      "[110]\tvalid_0's auc: 0.837029\tvalid_0's binary_error: 0.0395291\tvalid_0's binary_logloss: 0.135972\n",
      "[111]\tvalid_0's auc: 0.837197\tvalid_0's binary_error: 0.0395291\tvalid_0's binary_logloss: 0.1359\n",
      "[112]\tvalid_0's auc: 0.837381\tvalid_0's binary_error: 0.0395291\tvalid_0's binary_logloss: 0.135832\n",
      "[113]\tvalid_0's auc: 0.837624\tvalid_0's binary_error: 0.0395291\tvalid_0's binary_logloss: 0.135766\n",
      "[114]\tvalid_0's auc: 0.837662\tvalid_0's binary_error: 0.0395291\tvalid_0's binary_logloss: 0.135721\n",
      "[115]\tvalid_0's auc: 0.837571\tvalid_0's binary_error: 0.0395291\tvalid_0's binary_logloss: 0.135716\n",
      "[116]\tvalid_0's auc: 0.837548\tvalid_0's binary_error: 0.0395291\tvalid_0's binary_logloss: 0.135691\n",
      "[117]\tvalid_0's auc: 0.837506\tvalid_0's binary_error: 0.0395291\tvalid_0's binary_logloss: 0.135668\n",
      "[118]\tvalid_0's auc: 0.837475\tvalid_0's binary_error: 0.0395291\tvalid_0's binary_logloss: 0.135658\n",
      "[119]\tvalid_0's auc: 0.837334\tvalid_0's binary_error: 0.0395291\tvalid_0's binary_logloss: 0.135635\n",
      "[120]\tvalid_0's auc: 0.837381\tvalid_0's binary_error: 0.0395291\tvalid_0's binary_logloss: 0.135614\n",
      "[121]\tvalid_0's auc: 0.837415\tvalid_0's binary_error: 0.0395291\tvalid_0's binary_logloss: 0.135586\n",
      "[122]\tvalid_0's auc: 0.83748\tvalid_0's binary_error: 0.0395291\tvalid_0's binary_logloss: 0.135534\n",
      "[123]\tvalid_0's auc: 0.837444\tvalid_0's binary_error: 0.0395291\tvalid_0's binary_logloss: 0.135512\n",
      "[124]\tvalid_0's auc: 0.837649\tvalid_0's binary_error: 0.0395291\tvalid_0's binary_logloss: 0.135453\n",
      "[125]\tvalid_0's auc: 0.837646\tvalid_0's binary_error: 0.0395291\tvalid_0's binary_logloss: 0.135413\n",
      "[126]\tvalid_0's auc: 0.837733\tvalid_0's binary_error: 0.0395291\tvalid_0's binary_logloss: 0.13537\n",
      "[127]\tvalid_0's auc: 0.837722\tvalid_0's binary_error: 0.0395291\tvalid_0's binary_logloss: 0.135334\n",
      "[128]\tvalid_0's auc: 0.837785\tvalid_0's binary_error: 0.0395291\tvalid_0's binary_logloss: 0.135294\n",
      "[129]\tvalid_0's auc: 0.837963\tvalid_0's binary_error: 0.0395291\tvalid_0's binary_logloss: 0.135233\n",
      "[130]\tvalid_0's auc: 0.83803\tvalid_0's binary_error: 0.0395291\tvalid_0's binary_logloss: 0.135199\n",
      "[131]\tvalid_0's auc: 0.838103\tvalid_0's binary_error: 0.0395291\tvalid_0's binary_logloss: 0.135156\n",
      "[132]\tvalid_0's auc: 0.838176\tvalid_0's binary_error: 0.0395291\tvalid_0's binary_logloss: 0.13511\n",
      "[133]\tvalid_0's auc: 0.838104\tvalid_0's binary_error: 0.0395291\tvalid_0's binary_logloss: 0.135095\n",
      "[134]\tvalid_0's auc: 0.838274\tvalid_0's binary_error: 0.0395291\tvalid_0's binary_logloss: 0.135044\n",
      "[135]\tvalid_0's auc: 0.838332\tvalid_0's binary_error: 0.0395291\tvalid_0's binary_logloss: 0.135024\n",
      "[136]\tvalid_0's auc: 0.83838\tvalid_0's binary_error: 0.0395291\tvalid_0's binary_logloss: 0.134997\n",
      "[137]\tvalid_0's auc: 0.838402\tvalid_0's binary_error: 0.0395291\tvalid_0's binary_logloss: 0.134979\n",
      "[138]\tvalid_0's auc: 0.83831\tvalid_0's binary_error: 0.0395291\tvalid_0's binary_logloss: 0.134966\n",
      "[139]\tvalid_0's auc: 0.838441\tvalid_0's binary_error: 0.0395291\tvalid_0's binary_logloss: 0.134932\n",
      "[140]\tvalid_0's auc: 0.838313\tvalid_0's binary_error: 0.0395291\tvalid_0's binary_logloss: 0.134927\n",
      "[141]\tvalid_0's auc: 0.838368\tvalid_0's binary_error: 0.0395291\tvalid_0's binary_logloss: 0.134885\n",
      "[142]\tvalid_0's auc: 0.838335\tvalid_0's binary_error: 0.0395291\tvalid_0's binary_logloss: 0.134883\n",
      "[143]\tvalid_0's auc: 0.838487\tvalid_0's binary_error: 0.0395291\tvalid_0's binary_logloss: 0.13484\n",
      "[144]\tvalid_0's auc: 0.838234\tvalid_0's binary_error: 0.0395291\tvalid_0's binary_logloss: 0.134842\n",
      "[145]\tvalid_0's auc: 0.838307\tvalid_0's binary_error: 0.0395291\tvalid_0's binary_logloss: 0.134833\n",
      "[146]\tvalid_0's auc: 0.838304\tvalid_0's binary_error: 0.0395291\tvalid_0's binary_logloss: 0.134811\n",
      "[147]\tvalid_0's auc: 0.838469\tvalid_0's binary_error: 0.0395291\tvalid_0's binary_logloss: 0.134768\n",
      "[148]\tvalid_0's auc: 0.838556\tvalid_0's binary_error: 0.0395291\tvalid_0's binary_logloss: 0.134734\n",
      "[149]\tvalid_0's auc: 0.838721\tvalid_0's binary_error: 0.0395291\tvalid_0's binary_logloss: 0.134694\n",
      "[150]\tvalid_0's auc: 0.838814\tvalid_0's binary_error: 0.0395291\tvalid_0's binary_logloss: 0.13466\n",
      "[151]\tvalid_0's auc: 0.838888\tvalid_0's binary_error: 0.0395291\tvalid_0's binary_logloss: 0.134625\n",
      "[152]\tvalid_0's auc: 0.838739\tvalid_0's binary_error: 0.0395291\tvalid_0's binary_logloss: 0.134624\n",
      "[153]\tvalid_0's auc: 0.838786\tvalid_0's binary_error: 0.0395291\tvalid_0's binary_logloss: 0.134599\n",
      "[154]\tvalid_0's auc: 0.838907\tvalid_0's binary_error: 0.0395291\tvalid_0's binary_logloss: 0.134579\n",
      "[155]\tvalid_0's auc: 0.838906\tvalid_0's binary_error: 0.0395291\tvalid_0's binary_logloss: 0.134555\n",
      "[156]\tvalid_0's auc: 0.839021\tvalid_0's binary_error: 0.0395291\tvalid_0's binary_logloss: 0.134521\n",
      "[157]\tvalid_0's auc: 0.839136\tvalid_0's binary_error: 0.0395291\tvalid_0's binary_logloss: 0.134492\n",
      "[158]\tvalid_0's auc: 0.839159\tvalid_0's binary_error: 0.0395291\tvalid_0's binary_logloss: 0.134468\n",
      "[159]\tvalid_0's auc: 0.839109\tvalid_0's binary_error: 0.0395291\tvalid_0's binary_logloss: 0.134467\n",
      "[160]\tvalid_0's auc: 0.839279\tvalid_0's binary_error: 0.0395291\tvalid_0's binary_logloss: 0.134438\n",
      "[161]\tvalid_0's auc: 0.839154\tvalid_0's binary_error: 0.0395291\tvalid_0's binary_logloss: 0.134445\n",
      "[162]\tvalid_0's auc: 0.839242\tvalid_0's binary_error: 0.0395291\tvalid_0's binary_logloss: 0.134417\n",
      "[163]\tvalid_0's auc: 0.839308\tvalid_0's binary_error: 0.0395291\tvalid_0's binary_logloss: 0.134395\n",
      "[164]\tvalid_0's auc: 0.839504\tvalid_0's binary_error: 0.0395291\tvalid_0's binary_logloss: 0.134352\n",
      "[165]\tvalid_0's auc: 0.839425\tvalid_0's binary_error: 0.0395291\tvalid_0's binary_logloss: 0.134354\n",
      "[166]\tvalid_0's auc: 0.839464\tvalid_0's binary_error: 0.0395291\tvalid_0's binary_logloss: 0.134325\n",
      "[167]\tvalid_0's auc: 0.83959\tvalid_0's binary_error: 0.0395291\tvalid_0's binary_logloss: 0.134303\n",
      "[168]\tvalid_0's auc: 0.839634\tvalid_0's binary_error: 0.0395291\tvalid_0's binary_logloss: 0.134287\n",
      "[169]\tvalid_0's auc: 0.839693\tvalid_0's binary_error: 0.0395291\tvalid_0's binary_logloss: 0.134274\n",
      "[170]\tvalid_0's auc: 0.839678\tvalid_0's binary_error: 0.0395291\tvalid_0's binary_logloss: 0.134268\n",
      "[171]\tvalid_0's auc: 0.839675\tvalid_0's binary_error: 0.0395291\tvalid_0's binary_logloss: 0.134267\n",
      "[172]\tvalid_0's auc: 0.839691\tvalid_0's binary_error: 0.0395291\tvalid_0's binary_logloss: 0.134258\n",
      "[173]\tvalid_0's auc: 0.839663\tvalid_0's binary_error: 0.0395291\tvalid_0's binary_logloss: 0.134252\n",
      "[174]\tvalid_0's auc: 0.839734\tvalid_0's binary_error: 0.0395291\tvalid_0's binary_logloss: 0.134226\n",
      "[175]\tvalid_0's auc: 0.839903\tvalid_0's binary_error: 0.0395291\tvalid_0's binary_logloss: 0.134193\n",
      "[176]\tvalid_0's auc: 0.839918\tvalid_0's binary_error: 0.0395291\tvalid_0's binary_logloss: 0.134183\n",
      "[177]\tvalid_0's auc: 0.840001\tvalid_0's binary_error: 0.0395291\tvalid_0's binary_logloss: 0.134158\n",
      "[178]\tvalid_0's auc: 0.840034\tvalid_0's binary_error: 0.0395291\tvalid_0's binary_logloss: 0.13414\n",
      "[179]\tvalid_0's auc: 0.840079\tvalid_0's binary_error: 0.0395291\tvalid_0's binary_logloss: 0.134128\n",
      "[180]\tvalid_0's auc: 0.840224\tvalid_0's binary_error: 0.0395291\tvalid_0's binary_logloss: 0.134104\n",
      "[181]\tvalid_0's auc: 0.840291\tvalid_0's binary_error: 0.0395291\tvalid_0's binary_logloss: 0.134086\n",
      "[182]\tvalid_0's auc: 0.840292\tvalid_0's binary_error: 0.0395291\tvalid_0's binary_logloss: 0.134073\n",
      "[183]\tvalid_0's auc: 0.840272\tvalid_0's binary_error: 0.0395291\tvalid_0's binary_logloss: 0.134072\n",
      "[184]\tvalid_0's auc: 0.840347\tvalid_0's binary_error: 0.0395291\tvalid_0's binary_logloss: 0.13406\n",
      "[185]\tvalid_0's auc: 0.840326\tvalid_0's binary_error: 0.0395291\tvalid_0's binary_logloss: 0.134056\n",
      "[186]\tvalid_0's auc: 0.840382\tvalid_0's binary_error: 0.0395291\tvalid_0's binary_logloss: 0.134048\n",
      "[187]\tvalid_0's auc: 0.840381\tvalid_0's binary_error: 0.0395291\tvalid_0's binary_logloss: 0.134031\n",
      "[188]\tvalid_0's auc: 0.840381\tvalid_0's binary_error: 0.0395291\tvalid_0's binary_logloss: 0.134021\n",
      "[189]\tvalid_0's auc: 0.840445\tvalid_0's binary_error: 0.0395291\tvalid_0's binary_logloss: 0.134002\n",
      "[190]\tvalid_0's auc: 0.840485\tvalid_0's binary_error: 0.0395291\tvalid_0's binary_logloss: 0.133979\n",
      "[191]\tvalid_0's auc: 0.840445\tvalid_0's binary_error: 0.0395291\tvalid_0's binary_logloss: 0.13398\n",
      "[192]\tvalid_0's auc: 0.840495\tvalid_0's binary_error: 0.0395291\tvalid_0's binary_logloss: 0.133966\n",
      "[193]\tvalid_0's auc: 0.840503\tvalid_0's binary_error: 0.0395291\tvalid_0's binary_logloss: 0.13396\n",
      "[194]\tvalid_0's auc: 0.840489\tvalid_0's binary_error: 0.0395291\tvalid_0's binary_logloss: 0.133954\n",
      "[195]\tvalid_0's auc: 0.840515\tvalid_0's binary_error: 0.0395291\tvalid_0's binary_logloss: 0.133944\n",
      "[196]\tvalid_0's auc: 0.840641\tvalid_0's binary_error: 0.0395291\tvalid_0's binary_logloss: 0.133931\n",
      "[197]\tvalid_0's auc: 0.840636\tvalid_0's binary_error: 0.0395291\tvalid_0's binary_logloss: 0.133917\n",
      "[198]\tvalid_0's auc: 0.840604\tvalid_0's binary_error: 0.0395291\tvalid_0's binary_logloss: 0.133916\n",
      "[199]\tvalid_0's auc: 0.840604\tvalid_0's binary_error: 0.0395291\tvalid_0's binary_logloss: 0.13392\n",
      "[200]\tvalid_0's auc: 0.840565\tvalid_0's binary_error: 0.0395291\tvalid_0's binary_logloss: 0.13391\n",
      "[201]\tvalid_0's auc: 0.840643\tvalid_0's binary_error: 0.0395291\tvalid_0's binary_logloss: 0.133895\n",
      "[202]\tvalid_0's auc: 0.840632\tvalid_0's binary_error: 0.0395291\tvalid_0's binary_logloss: 0.133894\n",
      "[203]\tvalid_0's auc: 0.840644\tvalid_0's binary_error: 0.0395291\tvalid_0's binary_logloss: 0.13389\n",
      "[204]\tvalid_0's auc: 0.840702\tvalid_0's binary_error: 0.0395291\tvalid_0's binary_logloss: 0.133868\n",
      "[205]\tvalid_0's auc: 0.840726\tvalid_0's binary_error: 0.0395291\tvalid_0's binary_logloss: 0.133856\n",
      "[206]\tvalid_0's auc: 0.840735\tvalid_0's binary_error: 0.0395291\tvalid_0's binary_logloss: 0.133853\n",
      "[207]\tvalid_0's auc: 0.84073\tvalid_0's binary_error: 0.0395291\tvalid_0's binary_logloss: 0.133852\n",
      "[208]\tvalid_0's auc: 0.840739\tvalid_0's binary_error: 0.0395291\tvalid_0's binary_logloss: 0.133837\n",
      "[209]\tvalid_0's auc: 0.840794\tvalid_0's binary_error: 0.0395291\tvalid_0's binary_logloss: 0.133817\n",
      "[210]\tvalid_0's auc: 0.840849\tvalid_0's binary_error: 0.0395291\tvalid_0's binary_logloss: 0.133806\n",
      "[211]\tvalid_0's auc: 0.840885\tvalid_0's binary_error: 0.0395291\tvalid_0's binary_logloss: 0.133788\n",
      "[212]\tvalid_0's auc: 0.840914\tvalid_0's binary_error: 0.0395291\tvalid_0's binary_logloss: 0.133778\n",
      "[213]\tvalid_0's auc: 0.84091\tvalid_0's binary_error: 0.0395291\tvalid_0's binary_logloss: 0.133777\n",
      "[214]\tvalid_0's auc: 0.840893\tvalid_0's binary_error: 0.0395291\tvalid_0's binary_logloss: 0.133777\n",
      "[215]\tvalid_0's auc: 0.840843\tvalid_0's binary_error: 0.0395291\tvalid_0's binary_logloss: 0.13377\n",
      "[216]\tvalid_0's auc: 0.840826\tvalid_0's binary_error: 0.0395291\tvalid_0's binary_logloss: 0.133763\n",
      "[217]\tvalid_0's auc: 0.840826\tvalid_0's binary_error: 0.0395291\tvalid_0's binary_logloss: 0.133764\n",
      "[218]\tvalid_0's auc: 0.84085\tvalid_0's binary_error: 0.0395291\tvalid_0's binary_logloss: 0.133749\n",
      "[219]\tvalid_0's auc: 0.840943\tvalid_0's binary_error: 0.0395291\tvalid_0's binary_logloss: 0.133732\n",
      "[220]\tvalid_0's auc: 0.840883\tvalid_0's binary_error: 0.0395291\tvalid_0's binary_logloss: 0.133724\n",
      "[221]\tvalid_0's auc: 0.84089\tvalid_0's binary_error: 0.0395291\tvalid_0's binary_logloss: 0.133722\n",
      "[222]\tvalid_0's auc: 0.840886\tvalid_0's binary_error: 0.0395291\tvalid_0's binary_logloss: 0.133719\n",
      "[223]\tvalid_0's auc: 0.840907\tvalid_0's binary_error: 0.0395291\tvalid_0's binary_logloss: 0.133713\n",
      "[224]\tvalid_0's auc: 0.840927\tvalid_0's binary_error: 0.0395291\tvalid_0's binary_logloss: 0.133694\n",
      "[225]\tvalid_0's auc: 0.840919\tvalid_0's binary_error: 0.0395291\tvalid_0's binary_logloss: 0.133684\n",
      "[226]\tvalid_0's auc: 0.840923\tvalid_0's binary_error: 0.0395291\tvalid_0's binary_logloss: 0.133685\n",
      "[227]\tvalid_0's auc: 0.840964\tvalid_0's binary_error: 0.0395291\tvalid_0's binary_logloss: 0.133683\n",
      "[228]\tvalid_0's auc: 0.841041\tvalid_0's binary_error: 0.0395291\tvalid_0's binary_logloss: 0.133669\n",
      "[229]\tvalid_0's auc: 0.841036\tvalid_0's binary_error: 0.0395291\tvalid_0's binary_logloss: 0.133668\n",
      "[230]\tvalid_0's auc: 0.841045\tvalid_0's binary_error: 0.0395291\tvalid_0's binary_logloss: 0.133665\n",
      "[231]\tvalid_0's auc: 0.841057\tvalid_0's binary_error: 0.0395291\tvalid_0's binary_logloss: 0.133651\n",
      "[232]\tvalid_0's auc: 0.841069\tvalid_0's binary_error: 0.0395291\tvalid_0's binary_logloss: 0.133643\n",
      "[233]\tvalid_0's auc: 0.841113\tvalid_0's binary_error: 0.0395291\tvalid_0's binary_logloss: 0.133632\n",
      "[234]\tvalid_0's auc: 0.841095\tvalid_0's binary_error: 0.0395291\tvalid_0's binary_logloss: 0.133632\n",
      "[235]\tvalid_0's auc: 0.841106\tvalid_0's binary_error: 0.0395291\tvalid_0's binary_logloss: 0.133631\n",
      "[236]\tvalid_0's auc: 0.841046\tvalid_0's binary_error: 0.0395291\tvalid_0's binary_logloss: 0.133633\n",
      "[237]\tvalid_0's auc: 0.841029\tvalid_0's binary_error: 0.0395291\tvalid_0's binary_logloss: 0.13363\n",
      "[238]\tvalid_0's auc: 0.840941\tvalid_0's binary_error: 0.0395291\tvalid_0's binary_logloss: 0.133637\n",
      "[239]\tvalid_0's auc: 0.840974\tvalid_0's binary_error: 0.0395291\tvalid_0's binary_logloss: 0.133634\n",
      "[240]\tvalid_0's auc: 0.840955\tvalid_0's binary_error: 0.0395291\tvalid_0's binary_logloss: 0.133631\n",
      "[241]\tvalid_0's auc: 0.840971\tvalid_0's binary_error: 0.0395291\tvalid_0's binary_logloss: 0.13363\n",
      "[242]\tvalid_0's auc: 0.840955\tvalid_0's binary_error: 0.0395291\tvalid_0's binary_logloss: 0.133629\n",
      "[243]\tvalid_0's auc: 0.840971\tvalid_0's binary_error: 0.0395291\tvalid_0's binary_logloss: 0.13363\n",
      "[244]\tvalid_0's auc: 0.840991\tvalid_0's binary_error: 0.0395291\tvalid_0's binary_logloss: 0.133624\n",
      "[245]\tvalid_0's auc: 0.841015\tvalid_0's binary_error: 0.0395291\tvalid_0's binary_logloss: 0.133608\n",
      "[246]\tvalid_0's auc: 0.841045\tvalid_0's binary_error: 0.0395291\tvalid_0's binary_logloss: 0.1336\n",
      "[247]\tvalid_0's auc: 0.841006\tvalid_0's binary_error: 0.0395291\tvalid_0's binary_logloss: 0.133605\n",
      "[248]\tvalid_0's auc: 0.841028\tvalid_0's binary_error: 0.0395291\tvalid_0's binary_logloss: 0.133593\n",
      "[249]\tvalid_0's auc: 0.841094\tvalid_0's binary_error: 0.0395291\tvalid_0's binary_logloss: 0.133577\n",
      "[250]\tvalid_0's auc: 0.841092\tvalid_0's binary_error: 0.0395291\tvalid_0's binary_logloss: 0.133568\n",
      "[251]\tvalid_0's auc: 0.841142\tvalid_0's binary_error: 0.0395291\tvalid_0's binary_logloss: 0.13356\n",
      "[252]\tvalid_0's auc: 0.841178\tvalid_0's binary_error: 0.0395291\tvalid_0's binary_logloss: 0.133552\n",
      "[253]\tvalid_0's auc: 0.841208\tvalid_0's binary_error: 0.0395291\tvalid_0's binary_logloss: 0.13355\n",
      "[254]\tvalid_0's auc: 0.84123\tvalid_0's binary_error: 0.0394633\tvalid_0's binary_logloss: 0.133546\n",
      "[255]\tvalid_0's auc: 0.841266\tvalid_0's binary_error: 0.0394633\tvalid_0's binary_logloss: 0.13354\n",
      "[256]\tvalid_0's auc: 0.841285\tvalid_0's binary_error: 0.0394633\tvalid_0's binary_logloss: 0.133534\n",
      "[257]\tvalid_0's auc: 0.841346\tvalid_0's binary_error: 0.0394633\tvalid_0's binary_logloss: 0.133525\n",
      "[258]\tvalid_0's auc: 0.84138\tvalid_0's binary_error: 0.0394633\tvalid_0's binary_logloss: 0.133518\n",
      "[259]\tvalid_0's auc: 0.841337\tvalid_0's binary_error: 0.0394633\tvalid_0's binary_logloss: 0.133515\n",
      "[260]\tvalid_0's auc: 0.841318\tvalid_0's binary_error: 0.0394633\tvalid_0's binary_logloss: 0.133515\n",
      "[261]\tvalid_0's auc: 0.841337\tvalid_0's binary_error: 0.0394633\tvalid_0's binary_logloss: 0.133509\n",
      "[262]\tvalid_0's auc: 0.841378\tvalid_0's binary_error: 0.0394633\tvalid_0's binary_logloss: 0.133503\n",
      "[263]\tvalid_0's auc: 0.841332\tvalid_0's binary_error: 0.0394633\tvalid_0's binary_logloss: 0.133505\n",
      "[264]\tvalid_0's auc: 0.841304\tvalid_0's binary_error: 0.0394633\tvalid_0's binary_logloss: 0.133506\n",
      "[265]\tvalid_0's auc: 0.841292\tvalid_0's binary_error: 0.0394633\tvalid_0's binary_logloss: 0.133504\n",
      "[266]\tvalid_0's auc: 0.841309\tvalid_0's binary_error: 0.0394633\tvalid_0's binary_logloss: 0.133503\n",
      "[267]\tvalid_0's auc: 0.841319\tvalid_0's binary_error: 0.0394633\tvalid_0's binary_logloss: 0.133499\n",
      "[268]\tvalid_0's auc: 0.841337\tvalid_0's binary_error: 0.0394633\tvalid_0's binary_logloss: 0.133491\n",
      "[269]\tvalid_0's auc: 0.841346\tvalid_0's binary_error: 0.0394633\tvalid_0's binary_logloss: 0.133488\n",
      "[270]\tvalid_0's auc: 0.841368\tvalid_0's binary_error: 0.0394633\tvalid_0's binary_logloss: 0.133481\n",
      "[271]\tvalid_0's auc: 0.841474\tvalid_0's binary_error: 0.0394633\tvalid_0's binary_logloss: 0.133469\n",
      "[272]\tvalid_0's auc: 0.841484\tvalid_0's binary_error: 0.0394633\tvalid_0's binary_logloss: 0.133466\n",
      "[273]\tvalid_0's auc: 0.841396\tvalid_0's binary_error: 0.0394633\tvalid_0's binary_logloss: 0.133478\n",
      "[274]\tvalid_0's auc: 0.841411\tvalid_0's binary_error: 0.0394633\tvalid_0's binary_logloss: 0.133468\n",
      "[275]\tvalid_0's auc: 0.841405\tvalid_0's binary_error: 0.0394633\tvalid_0's binary_logloss: 0.133467\n",
      "[276]\tvalid_0's auc: 0.841465\tvalid_0's binary_error: 0.0394633\tvalid_0's binary_logloss: 0.133455\n",
      "[277]\tvalid_0's auc: 0.841502\tvalid_0's binary_error: 0.0394633\tvalid_0's binary_logloss: 0.13344\n",
      "[278]\tvalid_0's auc: 0.84149\tvalid_0's binary_error: 0.0394633\tvalid_0's binary_logloss: 0.133442\n",
      "[279]\tvalid_0's auc: 0.841507\tvalid_0's binary_error: 0.0394633\tvalid_0's binary_logloss: 0.133439\n",
      "[280]\tvalid_0's auc: 0.841463\tvalid_0's binary_error: 0.0394633\tvalid_0's binary_logloss: 0.133449\n",
      "[281]\tvalid_0's auc: 0.841515\tvalid_0's binary_error: 0.0394633\tvalid_0's binary_logloss: 0.133436\n",
      "[282]\tvalid_0's auc: 0.841507\tvalid_0's binary_error: 0.0394633\tvalid_0's binary_logloss: 0.133441\n",
      "[283]\tvalid_0's auc: 0.841542\tvalid_0's binary_error: 0.0394633\tvalid_0's binary_logloss: 0.133435\n",
      "[284]\tvalid_0's auc: 0.841503\tvalid_0's binary_error: 0.0394633\tvalid_0's binary_logloss: 0.13344\n",
      "[285]\tvalid_0's auc: 0.841494\tvalid_0's binary_error: 0.0394633\tvalid_0's binary_logloss: 0.133441\n",
      "[286]\tvalid_0's auc: 0.841488\tvalid_0's binary_error: 0.0394633\tvalid_0's binary_logloss: 0.133434\n",
      "[287]\tvalid_0's auc: 0.841391\tvalid_0's binary_error: 0.0394633\tvalid_0's binary_logloss: 0.133444\n",
      "[288]\tvalid_0's auc: 0.841414\tvalid_0's binary_error: 0.0394633\tvalid_0's binary_logloss: 0.133444\n",
      "[289]\tvalid_0's auc: 0.841401\tvalid_0's binary_error: 0.0394633\tvalid_0's binary_logloss: 0.133441\n",
      "[290]\tvalid_0's auc: 0.841344\tvalid_0's binary_error: 0.0394633\tvalid_0's binary_logloss: 0.133448\n",
      "[291]\tvalid_0's auc: 0.84133\tvalid_0's binary_error: 0.0394633\tvalid_0's binary_logloss: 0.133452\n",
      "[292]\tvalid_0's auc: 0.84131\tvalid_0's binary_error: 0.0394633\tvalid_0's binary_logloss: 0.133457\n",
      "[293]\tvalid_0's auc: 0.841305\tvalid_0's binary_error: 0.0394633\tvalid_0's binary_logloss: 0.133455\n",
      "[294]\tvalid_0's auc: 0.841392\tvalid_0's binary_error: 0.0394633\tvalid_0's binary_logloss: 0.133443\n",
      "[295]\tvalid_0's auc: 0.841399\tvalid_0's binary_error: 0.0394633\tvalid_0's binary_logloss: 0.133439\n",
      "[296]\tvalid_0's auc: 0.841408\tvalid_0's binary_error: 0.0394633\tvalid_0's binary_logloss: 0.133434\n",
      "[297]\tvalid_0's auc: 0.841414\tvalid_0's binary_error: 0.0394633\tvalid_0's binary_logloss: 0.133432\n",
      "[298]\tvalid_0's auc: 0.841442\tvalid_0's binary_error: 0.0394633\tvalid_0's binary_logloss: 0.133423\n",
      "[299]\tvalid_0's auc: 0.841486\tvalid_0's binary_error: 0.0394633\tvalid_0's binary_logloss: 0.133415\n",
      "[300]\tvalid_0's auc: 0.841449\tvalid_0's binary_error: 0.0394633\tvalid_0's binary_logloss: 0.13342\n",
      "[301]\tvalid_0's auc: 0.841448\tvalid_0's binary_error: 0.0394633\tvalid_0's binary_logloss: 0.133421\n",
      "[302]\tvalid_0's auc: 0.841512\tvalid_0's binary_error: 0.0394633\tvalid_0's binary_logloss: 0.133409\n",
      "[303]\tvalid_0's auc: 0.841544\tvalid_0's binary_error: 0.0394633\tvalid_0's binary_logloss: 0.133407\n",
      "[304]\tvalid_0's auc: 0.841552\tvalid_0's binary_error: 0.0394633\tvalid_0's binary_logloss: 0.133413\n",
      "[305]\tvalid_0's auc: 0.841549\tvalid_0's binary_error: 0.0394633\tvalid_0's binary_logloss: 0.133414\n",
      "[306]\tvalid_0's auc: 0.841555\tvalid_0's binary_error: 0.0394633\tvalid_0's binary_logloss: 0.133409\n",
      "[307]\tvalid_0's auc: 0.841574\tvalid_0's binary_error: 0.0394633\tvalid_0's binary_logloss: 0.133405\n",
      "[308]\tvalid_0's auc: 0.841622\tvalid_0's binary_error: 0.0394633\tvalid_0's binary_logloss: 0.133394\n",
      "[309]\tvalid_0's auc: 0.841634\tvalid_0's binary_error: 0.0394633\tvalid_0's binary_logloss: 0.133392\n",
      "[310]\tvalid_0's auc: 0.841662\tvalid_0's binary_error: 0.0394633\tvalid_0's binary_logloss: 0.133385\n",
      "[311]\tvalid_0's auc: 0.841684\tvalid_0's binary_error: 0.0394633\tvalid_0's binary_logloss: 0.133382\n",
      "[312]\tvalid_0's auc: 0.841682\tvalid_0's binary_error: 0.0394633\tvalid_0's binary_logloss: 0.133387\n",
      "[313]\tvalid_0's auc: 0.84169\tvalid_0's binary_error: 0.0394633\tvalid_0's binary_logloss: 0.133387\n",
      "[314]\tvalid_0's auc: 0.841687\tvalid_0's binary_error: 0.0394633\tvalid_0's binary_logloss: 0.133383\n",
      "[315]\tvalid_0's auc: 0.841713\tvalid_0's binary_error: 0.0394633\tvalid_0's binary_logloss: 0.133375\n",
      "[316]\tvalid_0's auc: 0.841644\tvalid_0's binary_error: 0.0394633\tvalid_0's binary_logloss: 0.133383\n",
      "[317]\tvalid_0's auc: 0.841618\tvalid_0's binary_error: 0.0394633\tvalid_0's binary_logloss: 0.133388\n",
      "[318]\tvalid_0's auc: 0.841628\tvalid_0's binary_error: 0.0394633\tvalid_0's binary_logloss: 0.133389\n",
      "[319]\tvalid_0's auc: 0.841605\tvalid_0's binary_error: 0.0394633\tvalid_0's binary_logloss: 0.133393\n",
      "[320]\tvalid_0's auc: 0.841603\tvalid_0's binary_error: 0.0394633\tvalid_0's binary_logloss: 0.133389\n",
      "[321]\tvalid_0's auc: 0.84157\tvalid_0's binary_error: 0.0394633\tvalid_0's binary_logloss: 0.133395\n",
      "[322]\tvalid_0's auc: 0.84163\tvalid_0's binary_error: 0.0394633\tvalid_0's binary_logloss: 0.133385\n",
      "[323]\tvalid_0's auc: 0.841668\tvalid_0's binary_error: 0.0394633\tvalid_0's binary_logloss: 0.133377\n",
      "[324]\tvalid_0's auc: 0.841636\tvalid_0's binary_error: 0.0394633\tvalid_0's binary_logloss: 0.133383\n",
      "[325]\tvalid_0's auc: 0.84162\tvalid_0's binary_error: 0.0394633\tvalid_0's binary_logloss: 0.133388\n",
      "[326]\tvalid_0's auc: 0.841692\tvalid_0's binary_error: 0.0394633\tvalid_0's binary_logloss: 0.13338\n",
      "[327]\tvalid_0's auc: 0.841741\tvalid_0's binary_error: 0.0394633\tvalid_0's binary_logloss: 0.133373\n",
      "[328]\tvalid_0's auc: 0.841747\tvalid_0's binary_error: 0.0394633\tvalid_0's binary_logloss: 0.133371\n",
      "[329]\tvalid_0's auc: 0.84174\tvalid_0's binary_error: 0.0394633\tvalid_0's binary_logloss: 0.133372\n",
      "[330]\tvalid_0's auc: 0.84174\tvalid_0's binary_error: 0.0394633\tvalid_0's binary_logloss: 0.13337\n",
      "[331]\tvalid_0's auc: 0.841765\tvalid_0's binary_error: 0.0394633\tvalid_0's binary_logloss: 0.133366\n",
      "[332]\tvalid_0's auc: 0.841753\tvalid_0's binary_error: 0.0394633\tvalid_0's binary_logloss: 0.133366\n",
      "[333]\tvalid_0's auc: 0.841769\tvalid_0's binary_error: 0.0394633\tvalid_0's binary_logloss: 0.133365\n",
      "[334]\tvalid_0's auc: 0.84172\tvalid_0's binary_error: 0.0394633\tvalid_0's binary_logloss: 0.133374\n",
      "[335]\tvalid_0's auc: 0.841742\tvalid_0's binary_error: 0.0394633\tvalid_0's binary_logloss: 0.133374\n",
      "[336]\tvalid_0's auc: 0.841743\tvalid_0's binary_error: 0.0394633\tvalid_0's binary_logloss: 0.133372\n",
      "[337]\tvalid_0's auc: 0.841714\tvalid_0's binary_error: 0.0394633\tvalid_0's binary_logloss: 0.133384\n",
      "[338]\tvalid_0's auc: 0.841674\tvalid_0's binary_error: 0.0394633\tvalid_0's binary_logloss: 0.13339\n",
      "[339]\tvalid_0's auc: 0.841646\tvalid_0's binary_error: 0.0394633\tvalid_0's binary_logloss: 0.133397\n",
      "[340]\tvalid_0's auc: 0.841674\tvalid_0's binary_error: 0.0394633\tvalid_0's binary_logloss: 0.133393\n",
      "[341]\tvalid_0's auc: 0.841656\tvalid_0's binary_error: 0.0394633\tvalid_0's binary_logloss: 0.133393\n",
      "[342]\tvalid_0's auc: 0.841655\tvalid_0's binary_error: 0.0394633\tvalid_0's binary_logloss: 0.133394\n",
      "[343]\tvalid_0's auc: 0.84171\tvalid_0's binary_error: 0.0394633\tvalid_0's binary_logloss: 0.13338\n",
      "[344]\tvalid_0's auc: 0.841726\tvalid_0's binary_error: 0.0394633\tvalid_0's binary_logloss: 0.133375\n",
      "[345]\tvalid_0's auc: 0.841665\tvalid_0's binary_error: 0.0394633\tvalid_0's binary_logloss: 0.133384\n",
      "[346]\tvalid_0's auc: 0.841668\tvalid_0's binary_error: 0.0394633\tvalid_0's binary_logloss: 0.133388\n",
      "[347]\tvalid_0's auc: 0.841659\tvalid_0's binary_error: 0.0394633\tvalid_0's binary_logloss: 0.133388\n",
      "[348]\tvalid_0's auc: 0.841668\tvalid_0's binary_error: 0.0394633\tvalid_0's binary_logloss: 0.133387\n",
      "[349]\tvalid_0's auc: 0.841642\tvalid_0's binary_error: 0.0394633\tvalid_0's binary_logloss: 0.133393\n",
      "[350]\tvalid_0's auc: 0.8416\tvalid_0's binary_error: 0.0394633\tvalid_0's binary_logloss: 0.133402\n",
      "[351]\tvalid_0's auc: 0.841577\tvalid_0's binary_error: 0.0394633\tvalid_0's binary_logloss: 0.133408\n",
      "[352]\tvalid_0's auc: 0.841542\tvalid_0's binary_error: 0.0394633\tvalid_0's binary_logloss: 0.133414\n",
      "[353]\tvalid_0's auc: 0.841499\tvalid_0's binary_error: 0.0394633\tvalid_0's binary_logloss: 0.133422\n",
      "[354]\tvalid_0's auc: 0.841483\tvalid_0's binary_error: 0.0394633\tvalid_0's binary_logloss: 0.133425\n",
      "[355]\tvalid_0's auc: 0.841489\tvalid_0's binary_error: 0.0394633\tvalid_0's binary_logloss: 0.133429\n",
      "[356]\tvalid_0's auc: 0.84146\tvalid_0's binary_error: 0.0394633\tvalid_0's binary_logloss: 0.133434\n",
      "[357]\tvalid_0's auc: 0.841449\tvalid_0's binary_error: 0.0394633\tvalid_0's binary_logloss: 0.133438\n",
      "[358]\tvalid_0's auc: 0.841443\tvalid_0's binary_error: 0.0394633\tvalid_0's binary_logloss: 0.133445\n",
      "[359]\tvalid_0's auc: 0.841455\tvalid_0's binary_error: 0.0394633\tvalid_0's binary_logloss: 0.13344\n",
      "[360]\tvalid_0's auc: 0.841455\tvalid_0's binary_error: 0.0394633\tvalid_0's binary_logloss: 0.13344\n",
      "[361]\tvalid_0's auc: 0.841475\tvalid_0's binary_error: 0.0394633\tvalid_0's binary_logloss: 0.133431\n",
      "[362]\tvalid_0's auc: 0.841545\tvalid_0's binary_error: 0.0394633\tvalid_0's binary_logloss: 0.133416\n",
      "[363]\tvalid_0's auc: 0.841533\tvalid_0's binary_error: 0.0394633\tvalid_0's binary_logloss: 0.133415\n",
      "[364]\tvalid_0's auc: 0.841552\tvalid_0's binary_error: 0.0394633\tvalid_0's binary_logloss: 0.133414\n",
      "[365]\tvalid_0's auc: 0.841572\tvalid_0's binary_error: 0.0394633\tvalid_0's binary_logloss: 0.133412\n",
      "[366]\tvalid_0's auc: 0.841577\tvalid_0's binary_error: 0.0394633\tvalid_0's binary_logloss: 0.133415\n",
      "[367]\tvalid_0's auc: 0.841586\tvalid_0's binary_error: 0.0394633\tvalid_0's binary_logloss: 0.133414\n",
      "[368]\tvalid_0's auc: 0.84167\tvalid_0's binary_error: 0.0394633\tvalid_0's binary_logloss: 0.133405\n",
      "[369]\tvalid_0's auc: 0.841695\tvalid_0's binary_error: 0.0394633\tvalid_0's binary_logloss: 0.133399\n",
      "[370]\tvalid_0's auc: 0.841725\tvalid_0's binary_error: 0.0394633\tvalid_0's binary_logloss: 0.133393\n",
      "[371]\tvalid_0's auc: 0.841734\tvalid_0's binary_error: 0.0394633\tvalid_0's binary_logloss: 0.133394\n",
      "[372]\tvalid_0's auc: 0.841728\tvalid_0's binary_error: 0.0394633\tvalid_0's binary_logloss: 0.13339\n",
      "[373]\tvalid_0's auc: 0.841702\tvalid_0's binary_error: 0.0394633\tvalid_0's binary_logloss: 0.133393\n",
      "[374]\tvalid_0's auc: 0.841693\tvalid_0's binary_error: 0.0394633\tvalid_0's binary_logloss: 0.133393\n",
      "[375]\tvalid_0's auc: 0.841657\tvalid_0's binary_error: 0.0394633\tvalid_0's binary_logloss: 0.133398\n"
     ]
    },
    {
     "data": {
      "text/plain": [
       "LGBMClassifier(colsample_bytree=0.5, learning_rate=0.02, max_depth=7,\n",
       "               n_estimators=375, nthread=-1, objective='binary',\n",
       "               random_state=42, reg_alpha=0.4, scale_pos_weight=1,\n",
       "               subsample=0.8)"
      ]
     },
     "execution_count": 125,
     "metadata": {},
     "output_type": "execute_result"
    }
   ],
   "source": [
    "model_light.fit(X_train,y_train,eval_set=[(X_val,y_val)],eval_metric=evaluation_metrics,verbose=True)"
   ]
  },
  {
   "cell_type": "code",
   "execution_count": 128,
   "id": "continued-scanner",
   "metadata": {},
   "outputs": [
    {
     "data": {
      "image/png": "[encoded data removed]",
      "text/plain": [
       "<Figure size 432x288 with 1 Axes>"
      ]
     },
     "metadata": {},
     "output_type": "display_data"
    }
   ],
   "source": [
    "y_train_prr = model_light.predict_proba(X_train) [:,1]\n",
    "y_test_prr = model_light.predict_proba(X_val) [:,1]\n",
    "train_fpr_t, train_tpr_t, train_threshy_t = roc_curve(y_train, y_train_prr)\n",
    "plt.plot(train_fpr_t, train_tpr_t, label=\"train AUC =\"+str(auc(train_fpr_t, train_tpr_t)))\n",
    "sns.lineplot(train_fpr_t, train_tpr_t)\n",
    "x=np.arange(0,1.1,0.1) #auc=0.5 line \n",
    "sns.lineplot(x,x,label=\"AUC=0.5\")\n",
    "plt.legend()\n",
    "plt.xlabel(\"False Positive Rate\")\n",
    "plt.ylabel(\"True Positive Rate\")\n",
    "plt.title(\"TPR vs FPR\")\n",
    "plt.grid(True)\n",
    "plt.show()"
   ]
  },
  {
   "cell_type": "code",
   "execution_count": 131,
   "id": "familiar-remains",
   "metadata": {},
   "outputs": [
    {
     "name": "stdout",
     "output_type": "stream",
     "text": [
      "0.11535545817609678\n",
      "The log loss after applying Light-GBM is found to be: 0.11535545817609678\n"
     ]
    }
   ],
   "source": [
    "log_loss = metrics.log_loss(y_train,y_train_prr) #getting logloss\n",
    "print(log_loss)\n",
    "print(\"The log loss after applying Light-GBM is found to be:\",(log_loss))\n",
    "    "
   ]
  },
  {
   "cell_type": "code",
   "execution_count": 132,
   "id": "rational-defeat",
   "metadata": {},
   "outputs": [
    {
     "name": "stdout",
     "output_type": "stream",
     "text": [
      "+---------------------+--------------------+---------------------+\n",
      "|        Model        | Parameter:Log-Loss | Parameter:Train-AUC |\n",
      "+---------------------+--------------------+---------------------+\n",
      "| Logistic-Regression |       0.5638       |        0.7969       |\n",
      "|    Decision-Trees   |       0.1305       |        0.8583       |\n",
      "|    Random-Forest    |       0.1314       |        0.8564       |\n",
      "|      Light-GBM      |       0.1153       |        0.9049       |\n",
      "+---------------------+--------------------+---------------------+\n"
     ]
    }
   ],
   "source": [
    "#  compare all models using Prettytable library\n",
    "# http://zetcode.com/python/prettytable/\n",
    "\n",
    "from prettytable import PrettyTable\n",
    "\n",
    "#If you get a ModuleNotFoundError error , install prettytable using: pip3 install prettytable\n",
    "\n",
    "p = PrettyTable()\n",
    "p.field_names = [\"Model\",  \"Parameter:Log-Loss\", \"Parameter:Train-AUC\"]\n",
    "p.add_row([\"Logistic-Regression\",0.5638, 0.7969])\n",
    "p.add_row([\"Decision-Trees\", 0.1305, 0.8583])\n",
    "p.add_row([\"Random-Forest\", 0.1314, 0.8564])\n",
    "p.add_row([\"Light-GBM\", 0.1153, 0.9049])\n",
    "print(p)"
   ]
  },
  {
   "cell_type": "code",
   "execution_count": null,
   "id": "assigned-verse",
   "metadata": {},
   "outputs": [],
   "source": [
    "# THANK-YOU"
   ]
  }
 ],
 "metadata": {
  "kernelspec": {
   "display_name": "Python 3",
   "language": "python",
   "name": "python3"
  },
  "language_info": {
   "codemirror_mode": {
    "name": "ipython",
    "version": 3
   },
   "file_extension": ".py",
   "mimetype": "text/x-python",
   "name": "python",
   "nbconvert_exporter": "python",
   "pygments_lexer": "ipython3",
   "version": "3.8.5"
  }
 },
 "nbformat": 4,
 "nbformat_minor": 5
}
